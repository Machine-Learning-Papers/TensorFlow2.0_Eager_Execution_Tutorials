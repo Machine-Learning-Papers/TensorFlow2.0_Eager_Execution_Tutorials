{
 "cells": [
  {
   "cell_type": "code",
   "execution_count": 1,
   "metadata": {},
   "outputs": [],
   "source": [
    "import tensorflow as tf\n",
    "import tensorflow_probability as tfp\n",
    "import numpy as np\n",
    "import matplotlib.pyplot as plt\n",
    "\n",
    "plt.style.use(\"seaborn\")\n",
    "\n",
    "tfk = tf.keras\n",
    "tfkl = tf.keras.layers\n",
    "tfd = tfp.distributions"
   ]
  },
  {
   "cell_type": "markdown",
   "metadata": {},
   "source": [
    "## toy data\n",
    "$$\n",
    "y = 5 x - 3 + \\epsilon\n",
    "$$\n",
    "where $\\epsilon \\sim N(0, 2)$ as known."
   ]
  },
  {
   "cell_type": "code",
   "execution_count": 2,
   "metadata": {},
   "outputs": [
    {
     "data": {
      "text/plain": [
       "[<matplotlib.lines.Line2D at 0x7f7796eb0c88>]"
      ]
     },
     "execution_count": 2,
     "metadata": {},
     "output_type": "execute_result"
    },
    {
     "data": {
      "image/png": "[encoded data removed]",
      "text/plain": [
       "<Figure size 432x288 with 1 Axes>"
      ]
     },
     "metadata": {
      "needs_background": "light"
     },
     "output_type": "display_data"
    }
   ],
   "source": [
    "def toy_data():\n",
    "    x = np.random.uniform(0, 5, 30)\n",
    "    y = 5 * x - 3 + np.random.normal(0, 2, 30)\n",
    "    return x, y\n",
    "x_np, y_np = toy_data()\n",
    "\n",
    "plt.plot(x_np, y_np, \"o\")"
   ]
  },
  {
   "cell_type": "markdown",
   "metadata": {},
   "source": [
    "## make model\n",
    "We build statistical model as below.\n",
    "\n",
    "$$\n",
    "\\begin{align}\n",
    "a \\sim N(0, 10) \\\\\n",
    "b \\sim N(0, 10) \\\\\n",
    "y \\sim N(ax+b, 2) \\\\\n",
    "\\end{align}\n",
    "$$\n",
    "\n",
    "We want to know the parameters $a$ and $b$ through posterior $p(\\cdot \\mid x, y)$ from MCMC."
   ]
  },
  {
   "cell_type": "code",
   "execution_count": 5,
   "metadata": {},
   "outputs": [],
   "source": [
    "x = tf.convert_to_tensor(\n",
    "    x_np,\n",
    "    dtype=tf.float32\n",
    ")\n",
    "\n",
    "y = tf.convert_to_tensor(\n",
    "    y_np,\n",
    "    dtype=tf.float32\n",
    ")\n",
    "\n",
    "\n",
    "Root = tfd.JointDistributionCoroutine.Root\n",
    "def model():\n",
    "    a = yield Root(tfd.Normal(loc=0, scale=10.))\n",
    "    b = yield Root(tfd.Normal(loc=0, scale=10.))\n",
    "    y = yield tfd.Normal(loc=a * x + b, scale=tf.constant(2.0))\n",
    "\n"
   ]
  },
  {
   "cell_type": "markdown",
   "metadata": {},
   "source": [
    "## joint distribution\n",
    "First, we prepare joint distribution $p(y,a,b\\mid x)$. (Note, $x$ is given by out of model.)"
   ]
  },
  {
   "cell_type": "code",
   "execution_count": 6,
   "metadata": {},
   "outputs": [],
   "source": [
    "joint = tfd.JointDistributionCoroutine(model)\n",
    "sample = joint.sample()"
   ]
  },
  {
   "cell_type": "code",
   "execution_count": 7,
   "metadata": {},
   "outputs": [
    {
     "data": {
      "text/plain": [
       "(<tf.Tensor: id=28, shape=(), dtype=float32, numpy=5.6546383>,\n",
       " <tf.Tensor: id=53, shape=(), dtype=float32, numpy=0.31189847>,\n",
       " <tf.Tensor: id=79, shape=(30,), dtype=float32, numpy=\n",
       " array([17.584944  , 25.201288  , 15.490198  ,  5.165868  ,  0.29396194,\n",
       "        24.354269  ,  9.953471  , 14.415665  , 14.054543  , 12.14949   ,\n",
       "         9.686166  ,  0.57181025, 14.72935   , -1.1694822 , 18.234703  ,\n",
       "         9.928075  , 25.887444  , 23.85184   , 23.123177  , 21.094206  ,\n",
       "         8.772196  , 13.453693  , 26.287586  ,  6.447795  , 19.30827   ,\n",
       "        20.760162  , 14.5332985 , 22.894247  ,  4.7184334 , 28.569122  ],\n",
       "       dtype=float32)>)"
      ]
     },
     "execution_count": 7,
     "metadata": {},
     "output_type": "execute_result"
    }
   ],
   "source": [
    "sample"
   ]
  },
  {
   "cell_type": "markdown",
   "metadata": {},
   "source": [
    "## plot before training\n",
    "That initial model can generate samples $a, b, y$. (However it does not match to data.)"
   ]
  },
  {
   "cell_type": "code",
   "execution_count": 8,
   "metadata": {},
   "outputs": [
    {
     "data": {
      "text/plain": [
       "[<matplotlib.lines.Line2D at 0x7f77686d26d8>]"
      ]
     },
     "execution_count": 8,
     "metadata": {},
     "output_type": "execute_result"
    },
    {
     "data": {
      "image/png": "[encoded data removed]",
      "text/plain": [
       "<Figure size 432x288 with 1 Axes>"
      ]
     },
     "metadata": {
      "needs_background": "light"
     },
     "output_type": "display_data"
    }
   ],
   "source": [
    "plt.plot(x.numpy(), sample[-1].numpy(), \"o\")"
   ]
  },
  {
   "cell_type": "markdown",
   "metadata": {},
   "source": [
    "## likelihood\n",
    "A generated sample likelihood can be caluclated each data point."
   ]
  },
  {
   "cell_type": "code",
   "execution_count": 9,
   "metadata": {},
   "outputs": [
    {
     "data": {
      "text/plain": [
       "<tf.Tensor: id=117, shape=(30,), dtype=float32, numpy=\n",
       "array([ -8.277493,  -8.221734,  -9.475068,  -8.234814,  -8.262238,\n",
       "        -8.547427,  -8.965708,  -9.013992,  -9.039732,  -8.551022,\n",
       "        -9.443696,  -8.62281 , -10.029757,  -9.994436,  -8.507306,\n",
       "        -9.745901,  -8.516852,  -8.572927, -10.799183,  -8.218836,\n",
       "        -8.29117 ,  -8.223557,  -8.871852,  -8.91931 ,  -8.539169,\n",
       "        -8.812513,  -8.222011,  -8.44175 ,  -8.872479,  -8.223422],\n",
       "      dtype=float32)>"
      ]
     },
     "execution_count": 9,
     "metadata": {},
     "output_type": "execute_result"
    }
   ],
   "source": [
    "joint.log_prob(sample)"
   ]
  },
  {
   "cell_type": "markdown",
   "metadata": {},
   "source": [
    "## posterior distribution\n",
    "MCMC need unnormalized posterior distribution model to calculate energy.\n",
    "\n",
    "It is maked easily. We have joint distributon $p(y,a,b\\mid x)$, so we give this distributon know data $x, y$.\n",
    "The joint distribution is given $x$ model, therefore we keed to give y to `joint.log_prob`.\n",
    "The $a$ and $b$ is given through `unnormalized_log_posterior` function lazyly."
   ]
  },
  {
   "cell_type": "code",
   "execution_count": 11,
   "metadata": {},
   "outputs": [],
   "source": [
    "def unnormalized_log_posterior(a, b):\n",
    "    return tf.reduce_mean(joint.log_prob([a, b, y]))"
   ]
  },
  {
   "cell_type": "markdown",
   "metadata": {},
   "source": [
    "## MCMC\n",
    "We use popular MCMC method \"NUTS\" which kind of gradient MCMC."
   ]
  },
  {
   "cell_type": "code",
   "execution_count": 12,
   "metadata": {},
   "outputs": [
    {
     "name": "stderr",
     "output_type": "stream",
     "text": [
      "/home/sano/anaconda3/envs/COM/lib/python3.6/site-packages/tensorflow_probability/python/mcmc/sample.py:336: UserWarning: Tracing all kernel results by default is deprecated. Set the `trace_fn` argument to None (the future default value) or an explicit callback that traces the values you are interested in.\n",
      "  warnings.warn(\"Tracing all kernel results by default is deprecated. Set \"\n"
     ]
    }
   ],
   "source": [
    "kernel = tfp.mcmc.NoUTurnSampler(\n",
    "      target_log_prob_fn=unnormalized_log_posterior,\n",
    "      step_size=0.1,\n",
    ")\n",
    "\n",
    "@tf.function()\n",
    "def run_chain():\n",
    "    init_state = list(joint.sample()[:-1]) # a, b\n",
    "    chains_states, kernels_results = tfp.mcmc.sample_chain(\n",
    "        num_results=1000,\n",
    "        num_burnin_steps=300,\n",
    "        current_state=init_state,\n",
    "        kernel=kernel\n",
    "    )\n",
    "    return chains_states, kernels_results\n",
    "\n",
    "# Sample from posterior distribution and get diagnostic\n",
    "chain_states, kernel_results = run_chain()"
   ]
  },
  {
   "cell_type": "markdown",
   "metadata": {},
   "source": [
    "## result\n",
    "A `chain_states` have posterior of $a$ and $b$ with MCMC sampler."
   ]
  },
  {
   "cell_type": "code",
   "execution_count": 14,
   "metadata": {},
   "outputs": [],
   "source": [
    "a, b = (\n",
    "    chain_states[0],\n",
    "    chain_states[1],\n",
    ")"
   ]
  },
  {
   "cell_type": "code",
   "execution_count": 29,
   "metadata": {},
   "outputs": [
    {
     "data": {
      "text/plain": [
       "(array([  5.,  17.,  94., 127., 206., 214., 179.,  92.,  50.,  16.]),\n",
       " array([0.9572996, 1.7070127, 2.4567256, 3.2064385, 3.9561515, 4.7058644,\n",
       "        5.455578 , 6.205291 , 6.9550037, 7.7047167, 8.45443  ],\n",
       "       dtype=float32),\n",
       " <a list of 10 Patch objects>)"
      ]
     },
     "execution_count": 29,
     "metadata": {},
     "output_type": "execute_result"
    },
    {
     "data": {
      "image/png": "[encoded data removed]",
      "text/plain": [
       "<Figure size 432x288 with 1 Axes>"
      ]
     },
     "metadata": {
      "needs_background": "light"
     },
     "output_type": "display_data"
    }
   ],
   "source": [
    "plt.hist(a)"
   ]
  },
  {
   "cell_type": "code",
   "execution_count": 30,
   "metadata": {},
   "outputs": [
    {
     "data": {
      "text/plain": [
       "(array([  1.,  10.,  52., 147., 221., 209., 175., 130.,  53.,   2.]),\n",
       " array([-16.379251 , -13.7673435, -11.155436 ,  -8.543528 ,  -5.9316196,\n",
       "         -3.3197117,  -0.7078037,   1.9041042,   4.516012 ,   7.12792  ,\n",
       "          9.739828 ], dtype=float32),\n",
       " <a list of 10 Patch objects>)"
      ]
     },
     "execution_count": 30,
     "metadata": {},
     "output_type": "execute_result"
    },
    {
     "data": {
      "image/png": "[encoded data removed]",
      "text/plain": [
       "<Figure size 432x288 with 1 Axes>"
      ]
     },
     "metadata": {
      "needs_background": "light"
     },
     "output_type": "display_data"
    }
   ],
   "source": [
    "plt.hist(b)"
   ]
  },
  {
   "cell_type": "markdown",
   "metadata": {},
   "source": [
    "## EAP estimation\n",
    "We have posterior $p(a \\mid x, y)$ and $p(b \\mid x, y)$, therefore we can get $\\mathbb E _ {p(a \\mid x, y)}[a]$ and $\\mathbb E _ {p(b \\mid x, y)}[b]$ parameters. This is called EAP estimation."
   ]
  },
  {
   "cell_type": "code",
   "execution_count": 31,
   "metadata": {},
   "outputs": [],
   "source": [
    "a_mean = tf.reduce_mean(a)\n",
    "b_mean = tf.reduce_mean(b)"
   ]
  },
  {
   "cell_type": "code",
   "execution_count": 36,
   "metadata": {},
   "outputs": [
    {
     "data": {
      "text/plain": [
       "[<matplotlib.lines.Line2D at 0x7f76aaf78278>]"
      ]
     },
     "execution_count": 36,
     "metadata": {},
     "output_type": "execute_result"
    },
    {
     "data": {
      "image/png": "[encoded data removed]",
      "text/plain": [
       "<Figure size 432x288 with 1 Axes>"
      ]
     },
     "metadata": {
      "needs_background": "light"
     },
     "output_type": "display_data"
    }
   ],
   "source": [
    "x_new = tf.convert_to_tensor(np.linspace(0, 5, 100), dtype=tf.float32)\n",
    "\n",
    "y_new = a_mean * x_new + b_mean\n",
    "\n",
    "plt.plot(x_new, y_new)\n",
    "plt.plot(x, y, \"o\")"
   ]
  },
  {
   "cell_type": "markdown",
   "metadata": {},
   "source": [
    "## Bayes prediction distribution\n",
    "We can caluclate bayes predictive distribution.\n",
    "\n",
    "$$\n",
    "p(y _ {new} \\mid x _ {new}, x, y) = \\int _ {a, b} p(y _ {new}\\mid x _ {new}, a, b)p(a, b \\mid x, y)dadb\n",
    "$$\n",
    "\n",
    "We use montecalro sampler represented as below.\n",
    "\n",
    "$$\n",
    "p(y _ {new} \\mid x _ {new}, x, y) \\sim \\frac{1}{N}\\sum _ {a _ i, b _ i} ^ N p(y _ {new}\\mid x _ {new}, a _ i, b _ i)\n",
    "$$\n",
    "\n",
    "It is apporoximation of \"the expected value of the statistical model $p(y _ {new}\\mid x _ {new}, a _ i, b _ i)$ by parameter's posterior\"."
   ]
  },
  {
   "cell_type": "code",
   "execution_count": 51,
   "metadata": {},
   "outputs": [],
   "source": [
    "def statistical_model(a, b):\n",
    "    return tf.expand_dims(a, axis=0) * tf.expand_dims(x_new, axis=1) + tf.expand_dims(b, axis=0)\n",
    "\n",
    "samples = statistical_model(a, b)"
   ]
  },
  {
   "cell_type": "code",
   "execution_count": 52,
   "metadata": {},
   "outputs": [
    {
     "data": {
      "text/plain": [
       "TensorShape([100, 1000])"
      ]
     },
     "execution_count": 52,
     "metadata": {},
     "output_type": "execute_result"
    }
   ],
   "source": [
    "samples.shape"
   ]
  },
  {
   "cell_type": "code",
   "execution_count": 64,
   "metadata": {},
   "outputs": [
    {
     "data": {
      "text/plain": [
       "[<matplotlib.lines.Line2D at 0x7f769d8714e0>]"
      ]
     },
     "execution_count": 64,
     "metadata": {},
     "output_type": "execute_result"
    },
    {
     "data": {
      "image/png": "[encoded data removed]",
      "text/plain": [
       "<Figure size 432x288 with 1 Axes>"
      ]
     },
     "metadata": {
      "needs_background": "light"
     },
     "output_type": "display_data"
    }
   ],
   "source": [
    "y_expected = tf.reduce_mean(samples, axis=1)\n",
    "\n",
    "plt.plot(x_new, y_expected, \"r\")\n",
    "plt.plot(x_new, samples, \"b\", alpha=0.008 )\n",
    "plt.plot(x, y, \"og\")"
   ]
  },
  {
   "cell_type": "code",
   "execution_count": null,
   "metadata": {},
   "outputs": [],
   "source": []
  }
 ],
 "metadata": {
  "kernelspec": {
   "display_name": "Python 3",
   "language": "python",
   "name": "python3"
  },
  "language_info": {
   "codemirror_mode": {
    "name": "ipython",
    "version": 3
   },
   "file_extension": ".py",
   "mimetype": "text/x-python",
   "name": "python",
   "nbconvert_exporter": "python",
   "pygments_lexer": "ipython3",
   "version": "3.6.8"
  }
 },
 "nbformat": 4,
 "nbformat_minor": 4
}
