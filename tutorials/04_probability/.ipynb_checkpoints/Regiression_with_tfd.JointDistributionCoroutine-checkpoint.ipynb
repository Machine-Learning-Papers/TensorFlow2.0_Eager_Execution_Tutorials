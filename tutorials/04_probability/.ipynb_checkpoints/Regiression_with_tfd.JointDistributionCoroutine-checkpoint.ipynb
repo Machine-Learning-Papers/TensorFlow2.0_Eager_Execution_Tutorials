{
 "cells": [
  {
   "cell_type": "code",
   "execution_count": 1,
   "metadata": {},
   "outputs": [],
   "source": [
    "import tensorflow as tf\n",
    "import tensorflow_probability as tfp\n",
    "import numpy as np\n",
    "import matplotlib.pyplot as plt\n",
    "\n",
    "plt.style.use(\"seaborn\")\n",
    "\n",
    "tfk = tf.keras\n",
    "tfkl = tf.keras.layers\n",
    "tfd = tfp.distributions"
   ]
  },
  {
   "cell_type": "markdown",
   "metadata": {},
   "source": [
    "## toy data\n",
    "$$\n",
    "y = 5 x - 3 + \\epsilon\n",
    "$$\n",
    "where $\\epsilon \\sim N(0, 2)$ as known."
   ]
  },
  {
   "cell_type": "code",
   "execution_count": 2,
   "metadata": {},
   "outputs": [
    {
     "data": {
      "text/plain": [
       "[<matplotlib.lines.Line2D at 0x7f79cbf20cf8>]"
      ]
     },
     "execution_count": 2,
     "metadata": {},
     "output_type": "execute_result"
    },
    {
     "data": {
      "image/png": "[encoded data removed]",
      "text/plain": [
       "<Figure size 432x288 with 1 Axes>"
      ]
     },
     "metadata": {
      "needs_background": "light"
     },
     "output_type": "display_data"
    }
   ],
   "source": [
    "def toy_data():\n",
    "    x = np.random.uniform(0, 5, 30)\n",
    "    y = 5 * x - 3 + np.random.normal(0, 2, 30)\n",
    "    return x, y\n",
    "x_np, y_np = toy_data()\n",
    "\n",
    "plt.plot(x_np, y_np, \"o\")"
   ]
  },
  {
   "cell_type": "markdown",
   "metadata": {},
   "source": [
    "## make model\n",
    "We build statistical model as below.\n",
    "\n",
    "$$\n",
    "\\begin{align}\n",
    "a \\sim N(0, 10) \\\\\n",
    "b \\sim N(0, 10) \\\\\n",
    "y \\sim N(ax+b, 2) \\\\\n",
    "\\end{align}\n",
    "$$\n",
    "\n",
    "We want to know the parameters $a$ and $b$ through posterior $p(\\cdot \\mid x, y)$ from MCMC."
   ]
  },
  {
   "cell_type": "code",
   "execution_count": 3,
   "metadata": {},
   "outputs": [],
   "source": [
    "x = tf.convert_to_tensor(\n",
    "    x_np,\n",
    "    dtype=tf.float32\n",
    ")\n",
    "\n",
    "y = tf.convert_to_tensor(\n",
    "    y_np,\n",
    "    dtype=tf.float32\n",
    ")\n",
    "\n",
    "\n",
    "Root = tfd.JointDistributionCoroutine.Root\n",
    "def model():\n",
    "    a = yield Root(tfd.Normal(loc=0, scale=10.))\n",
    "    b = yield Root(tfd.Normal(loc=0, scale=10.))\n",
    "    y = yield tfd.Normal(loc=a * x + b, scale=tf.constant(2.0))\n",
    "\n"
   ]
  },
  {
   "cell_type": "markdown",
   "metadata": {},
   "source": [
    "## joint distribution\n",
    "First, we prepare joint distribution $p(y,a,b\\mid x)$. (Note, $x$ is given by out of model.)"
   ]
  },
  {
   "cell_type": "code",
   "execution_count": 4,
   "metadata": {},
   "outputs": [],
   "source": [
    "joint = tfd.JointDistributionCoroutine(model)\n",
    "sample = joint.sample()"
   ]
  },
  {
   "cell_type": "code",
   "execution_count": 5,
   "metadata": {},
   "outputs": [
    {
     "data": {
      "text/plain": [
       "(<tf.Tensor: id=26, shape=(), dtype=float32, numpy=5.6546383>,\n",
       " <tf.Tensor: id=51, shape=(), dtype=float32, numpy=0.31189847>,\n",
       " <tf.Tensor: id=77, shape=(30,), dtype=float32, numpy=\n",
       " array([25.391018 , 13.446805 , 11.204405 , 26.987757 , 26.252079 ,\n",
       "        25.403412 ,  5.7947273,  8.852711 , 27.024113 ,  4.672937 ,\n",
       "         4.004512 , 17.755526 ,  3.5669107, 19.99278  , 18.300985 ,\n",
       "        28.332775 , 19.022911 ,  6.6464777, 13.83661  , 21.820982 ,\n",
       "        17.430548 , 28.088863 , 16.954937 , 25.448895 ,  7.0257025,\n",
       "        17.55206  , 18.788765 , 23.119165 ,  6.398305 ,  1.9891018],\n",
       "       dtype=float32)>)"
      ]
     },
     "execution_count": 5,
     "metadata": {},
     "output_type": "execute_result"
    }
   ],
   "source": [
    "sample"
   ]
  },
  {
   "cell_type": "markdown",
   "metadata": {},
   "source": [
    "## plot before training\n",
    "That initial model can generate samples $a, b, y$. (However it does not match to data.)"
   ]
  },
  {
   "cell_type": "code",
   "execution_count": 6,
   "metadata": {},
   "outputs": [
    {
     "data": {
      "text/plain": [
       "[<matplotlib.lines.Line2D at 0x7f79c0083320>]"
      ]
     },
     "execution_count": 6,
     "metadata": {},
     "output_type": "execute_result"
    },
    {
     "data": {
      "image/png": "[encoded data removed]",
      "text/plain": [
       "<Figure size 432x288 with 1 Axes>"
      ]
     },
     "metadata": {
      "needs_background": "light"
     },
     "output_type": "display_data"
    }
   ],
   "source": [
    "plt.plot(x.numpy(), sample[-1].numpy(), \"o\")"
   ]
  },
  {
   "cell_type": "markdown",
   "metadata": {},
   "source": [
    "## likelihood\n",
    "A generated sample likelihood can be caluclated each data point."
   ]
  },
  {
   "cell_type": "code",
   "execution_count": 7,
   "metadata": {},
   "outputs": [
    {
     "data": {
      "text/plain": [
       "<tf.Tensor: id=115, shape=(30,), dtype=float32, numpy=\n",
       "array([ -8.277493,  -8.221734,  -9.475068,  -8.234814,  -8.262238,\n",
       "        -8.547427,  -8.965708,  -9.013991,  -9.039732,  -8.551022,\n",
       "        -9.443696,  -8.62281 , -10.029757,  -9.994436,  -8.507306,\n",
       "        -9.7459  ,  -8.516853,  -8.572928, -10.799183,  -8.218836,\n",
       "        -8.29117 ,  -8.223557,  -8.871851,  -8.919311,  -8.539169,\n",
       "        -8.812513,  -8.222011,  -8.44175 ,  -8.872479,  -8.223422],\n",
       "      dtype=float32)>"
      ]
     },
     "execution_count": 7,
     "metadata": {},
     "output_type": "execute_result"
    }
   ],
   "source": [
    "joint.log_prob(sample)"
   ]
  },
  {
   "cell_type": "markdown",
   "metadata": {},
   "source": [
    "## posterior distribution\n",
    "MCMC need unnormalized posterior distribution model to calculate energy.\n",
    "\n",
    "It is maked easily. We have joint distributon $p(y,a,b\\mid x)$, so we give this distributon know data $x, y$.\n",
    "The joint distribution is given $x$ model, therefore we keed to give y to `joint.log_prob`.\n",
    "The $a$ and $b$ is given through `unnormalized_log_posterior` function lazyly."
   ]
  },
  {
   "cell_type": "code",
   "execution_count": 8,
   "metadata": {},
   "outputs": [],
   "source": [
    "def unnormalized_log_posterior(a, b):\n",
    "    return tf.reduce_mean(joint.log_prob([a, b, y]))"
   ]
  },
  {
   "cell_type": "markdown",
   "metadata": {},
   "source": [
    "## MCMC\n",
    "We use popular MCMC method \"NUTS\" which kind of gradient MCMC."
   ]
  },
  {
   "cell_type": "code",
   "execution_count": null,
   "metadata": {},
   "outputs": [
    {
     "name": "stderr",
     "output_type": "stream",
     "text": [
      "/home/sano/anaconda3/envs/COM/lib/python3.6/site-packages/tensorflow_probability/python/mcmc/sample.py:336: UserWarning: Tracing all kernel results by default is deprecated. Set the `trace_fn` argument to None (the future default value) or an explicit callback that traces the values you are interested in.\n",
      "  warnings.warn(\"Tracing all kernel results by default is deprecated. Set \"\n"
     ]
    }
   ],
   "source": [
    "kernel = tfp.mcmc.NoUTurnSampler(\n",
    "      target_log_prob_fn=unnormalized_log_posterior,\n",
    "      step_size=0.1,\n",
    ")\n",
    "\n",
    "@tf.function()\n",
    "def run_chain():\n",
    "    init_state = list(joint.sample()[:-1]) # a, b\n",
    "    chains_states, kernels_results = tfp.mcmc.sample_chain(\n",
    "        num_results=1000,\n",
    "        num_burnin_steps=300,\n",
    "        current_state=init_state,\n",
    "        kernel=kernel\n",
    "    )\n",
    "    return chains_states, kernels_results\n",
    "\n",
    "# Sample from posterior distribution and get diagnostic\n",
    "import time\n",
    "start = time.time()\n",
    "chain_states, kernel_results = run_chain()\n",
    "print(time.time()-start)"
   ]
  },
  {
   "cell_type": "markdown",
   "metadata": {},
   "source": [
    "## result\n",
    "A `chain_states` have posterior of $a$ and $b$ with MCMC sampler."
   ]
  },
  {
   "cell_type": "code",
   "execution_count": null,
   "metadata": {},
   "outputs": [],
   "source": [
    "a, b = (\n",
    "    chain_states[0],\n",
    "    chain_states[1],\n",
    ")"
   ]
  },
  {
   "cell_type": "code",
   "execution_count": 11,
   "metadata": {},
   "outputs": [
    {
     "data": {
      "text/plain": [
       "(array([  9.,  40.,  81., 138., 225., 243., 131.,  99.,  29.,   5.]),\n",
       " array([0.5473304, 1.3990186, 2.250707 , 3.102395 , 3.9540834, 4.805772 ,\n",
       "        5.6574597, 6.509148 , 7.3608365, 8.212524 , 9.064213 ],\n",
       "       dtype=float32),\n",
       " <a list of 10 Patch objects>)"
      ]
     },
     "execution_count": 11,
     "metadata": {},
     "output_type": "execute_result"
    },
    {
     "data": {
      "image/png": "[encoded data removed]",
      "text/plain": [
       "<Figure size 432x288 with 1 Axes>"
      ]
     },
     "metadata": {
      "needs_background": "light"
     },
     "output_type": "display_data"
    }
   ],
   "source": [
    "plt.hist(a)"
   ]
  },
  {
   "cell_type": "code",
   "execution_count": 12,
   "metadata": {},
   "outputs": [
    {
     "data": {
      "text/plain": [
       "(array([ 12.,  41., 101., 155., 222., 210., 126.,  92.,  32.,   9.]),\n",
       " array([-14.734778  , -12.198548  ,  -9.662318  ,  -7.1260877 ,\n",
       "         -4.589857  ,  -2.053627  ,   0.48260325,   3.0188336 ,\n",
       "          5.5550637 ,   8.091294  ,  10.627524  ], dtype=float32),\n",
       " <a list of 10 Patch objects>)"
      ]
     },
     "execution_count": 12,
     "metadata": {},
     "output_type": "execute_result"
    },
    {
     "data": {
      "image/png": "[encoded data removed]",
      "text/plain": [
       "<Figure size 432x288 with 1 Axes>"
      ]
     },
     "metadata": {
      "needs_background": "light"
     },
     "output_type": "display_data"
    }
   ],
   "source": [
    "plt.hist(b)"
   ]
  },
  {
   "cell_type": "markdown",
   "metadata": {},
   "source": [
    "## EAP estimation\n",
    "We have posterior $p(a \\mid x, y)$ and $p(b \\mid x, y)$, therefore we can get $\\mathbb E _ {p(a \\mid x, y)}[a]$ and $\\mathbb E _ {p(b \\mid x, y)}[b]$ parameters. This is called EAP estimation."
   ]
  },
  {
   "cell_type": "code",
   "execution_count": 13,
   "metadata": {},
   "outputs": [],
   "source": [
    "a_mean = tf.reduce_mean(a)\n",
    "b_mean = tf.reduce_mean(b)"
   ]
  },
  {
   "cell_type": "code",
   "execution_count": 14,
   "metadata": {},
   "outputs": [
    {
     "data": {
      "text/plain": [
       "[<matplotlib.lines.Line2D at 0x7fb4c47cb6d8>]"
      ]
     },
     "execution_count": 14,
     "metadata": {},
     "output_type": "execute_result"
    },
    {
     "data": {
      "image/png": "[encoded data removed]",
      "text/plain": [
       "<Figure size 432x288 with 1 Axes>"
      ]
     },
     "metadata": {
      "needs_background": "light"
     },
     "output_type": "display_data"
    }
   ],
   "source": [
    "x_new = tf.convert_to_tensor(np.linspace(0, 5, 100), dtype=tf.float32)\n",
    "\n",
    "y_new = a_mean * x_new + b_mean\n",
    "\n",
    "plt.plot(x_new, y_new)\n",
    "plt.plot(x, y, \"o\")"
   ]
  },
  {
   "cell_type": "markdown",
   "metadata": {},
   "source": [
    "## Bayes prediction distribution\n",
    "We can caluclate bayes predictive distribution.\n",
    "\n",
    "$$\n",
    "p(y _ {new} \\mid x _ {new}, x, y) = \\int _ {a, b} p(y _ {new}\\mid x _ {new}, a, b)p(a, b \\mid x, y)dadb\n",
    "$$\n",
    "\n",
    "We use montecalro sampler represented as below.\n",
    "\n",
    "$$\n",
    "p(y _ {new} \\mid x _ {new}, x, y) \\sim \\frac{1}{N}\\sum _ {a _ i, b _ i} ^ N p(y _ {new}\\mid x _ {new}, a _ i, b _ i)\n",
    "$$\n",
    "\n",
    "It is apporoximation of \"the expected value of the statistical model $p(y _ {new}\\mid x _ {new}, a _ i, b _ i)$ by parameter's posterior\"."
   ]
  },
  {
   "cell_type": "code",
   "execution_count": 15,
   "metadata": {},
   "outputs": [],
   "source": [
    "def statistical_model(a, b):\n",
    "    return tfd.Normal(\n",
    "        loc=tf.expand_dims(a, axis=0) * tf.expand_dims(x_new, axis=1) + tf.expand_dims(b, axis=0),\n",
    "        scale=2.0\n",
    "    )\n",
    "\n",
    "samples = statistical_model(a, b)"
   ]
  },
  {
   "cell_type": "code",
   "execution_count": 16,
   "metadata": {},
   "outputs": [
    {
     "ename": "AttributeError",
     "evalue": "'Normal' object has no attribute 'shape'",
     "output_type": "error",
     "traceback": [
      "\u001b[0;31m---------------------------------------------------------------------------\u001b[0m",
      "\u001b[0;31mAttributeError\u001b[0m                            Traceback (most recent call last)",
      "\u001b[0;32m<ipython-input-16-41a57ec04ddc>\u001b[0m in \u001b[0;36m<module>\u001b[0;34m\u001b[0m\n\u001b[0;32m----> 1\u001b[0;31m \u001b[0msamples\u001b[0m\u001b[0;34m.\u001b[0m\u001b[0mshape\u001b[0m\u001b[0;34m\u001b[0m\u001b[0;34m\u001b[0m\u001b[0m\n\u001b[0m",
      "\u001b[0;31mAttributeError\u001b[0m: 'Normal' object has no attribute 'shape'"
     ]
    }
   ],
   "source": [
    "samples.shape"
   ]
  },
  {
   "cell_type": "code",
   "execution_count": null,
   "metadata": {},
   "outputs": [],
   "source": [
    "y_expected = tf.reduce_mean(samples, axis=1)\n",
    "\n",
    "plt.plot(x_new, y_expected, \"r\")\n",
    "plt.plot(x_new, samples, \"b\", alpha=0.008 )\n",
    "plt.plot(x, y, \"og\")"
   ]
  },
  {
   "cell_type": "code",
   "execution_count": null,
   "metadata": {},
   "outputs": [],
   "source": []
  }
 ],
 "metadata": {
  "kernelspec": {
   "display_name": "Python 3",
   "language": "python",
   "name": "python3"
  },
  "language_info": {
   "codemirror_mode": {
    "name": "ipython",
    "version": 3
   },
   "file_extension": ".py",
   "mimetype": "text/x-python",
   "name": "python",
   "nbconvert_exporter": "python",
   "pygments_lexer": "ipython3",
   "version": "3.6.8"
  }
 },
 "nbformat": 4,
 "nbformat_minor": 4
}
