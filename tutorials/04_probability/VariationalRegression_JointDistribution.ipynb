{
 "cells": [
  {
   "cell_type": "code",
   "execution_count": 1,
   "metadata": {},
   "outputs": [],
   "source": [
    "import numpy as np\n",
    "import matplotlib.pyplot as plt\n",
    "import tensorflow as tf\n",
    "import tensorflow_probability as tfp\n",
    "\n",
    "plt.style.use(\"seaborn\")"
   ]
  },
  {
   "cell_type": "code",
   "execution_count": 2,
   "metadata": {},
   "outputs": [],
   "source": [
    "tfd = tfp.distributions\n",
    "tfb = tfp.bijectors\n",
    "tfpl = tfp.layers\n",
    "\n",
    "tfk = tf.keras\n",
    "tfkl = tf.keras.layers"
   ]
  },
  {
   "cell_type": "code",
   "execution_count": 3,
   "metadata": {},
   "outputs": [],
   "source": [
    "class VariationalBayesModel(tf.Module):\n",
    "    def __init__(self, optimizer=tf.optimizers.Adam()):\n",
    "        self.optimizer = optimizer\n",
    "        \n",
    "        self.w_prior = tfd.Normal(loc=tf.zeros([]), scale=10*tf.ones([]))\n",
    "        self.b_prior = tfd.Normal(tf.zeros([]), scale=10*tf.ones([]))\n",
    "        self.sigma_prior = tfd.LogNormal(loc=tf.zeros([]), scale=tf.ones([]))\n",
    "        \n",
    "        self.qw_loc = tf.Variable(tf.zeros([]), name=\"qw_loc\")\n",
    "        self.qw_scale = tf.Variable(tf.ones([]), name=\"qw_scale\")\n",
    "        self.qb_loc = tf.Variable(tf.zeros([]), name=\"qb_loc\")\n",
    "        self.qb_scale = tf.Variable(tf.ones([]), name=\"qb_scale\")\n",
    "        self.qsigma_loc = tf.Variable(tf.ones([]), name=\"qsigma_loc\")\n",
    "        self.qsigma_scale = tf.Variable(tf.ones([]), name=\"qsigma_scale\")\n",
    "        \n",
    "        self.Root = tfd.JointDistributionCoroutine.Root\n",
    "        \n",
    "    def joint_distribution(self, x):\n",
    "        \n",
    "        def __joint_distribution():\n",
    "            w = yield self.Root(self.w_prior)\n",
    "            b = yield self.Root(self.b_prior)\n",
    "            sigma = yield self.Root(self.sigma_prior)\n",
    "            linear = w * x + b\n",
    "            y = yield tfd.Independent(\n",
    "                tfd.Normal(loc=linear, scale=sigma),\n",
    "                reinterpreted_batch_ndims=1\n",
    "            )\n",
    "\n",
    "        return tfd.JointDistributionCoroutine(__joint_distribution)\n",
    "    \n",
    "    def variational_distribution(self):\n",
    "        \n",
    "        def __variational_distribution():\n",
    "            w = yield self.Root(\n",
    "                tfd.Normal(loc=self.qw_loc, scale=tf.nn.softplus(self.qw_scale))\n",
    "            )\n",
    "            b = yield self.Root(\n",
    "                tfd.Normal(loc=self.qb_loc, scale=tf.nn.softplus(self.qb_scale))\n",
    "            )\n",
    "            sigma = yield self.Root(\n",
    "                tfd.LogNormal(loc=self.qsigma_loc, scale=tf.nn.softplus(self.qsigma_scale))\n",
    "            )\n",
    "            \n",
    "        return tfd.JointDistributionCoroutine(__variational_distribution)\n",
    "    \n",
    "    def log_joint_probability(self, x, w, b, sigma, y):\n",
    "        joint_prob = self.joint_distribution(x).log_prob([w, b, sigma, y])\n",
    "        return tf.reduce_mean(joint_prob)\n",
    "    \n",
    "    def loss(self, x, y):\n",
    "        qw_sample, qb_sample, qsigma_sample = self.variational_distribution().sample()\n",
    "        kl_div = self.w_prior.log_prob(qw_sample) \\\n",
    "               + self.b_prior.log_prob(qb_sample) \\\n",
    "               + self.sigma_prior.log_prob(qsigma_sample)\n",
    "        log_joint_prob = self.log_joint_probability(x, qw_sample, qb_sample, qsigma_sample, y)\n",
    "        return kl_div - log_joint_prob\n",
    "    \n",
    "    def train(self, x, y, print_loss=False):\n",
    "        with tf.GradientTape() as g:\n",
    "            loss_value = self.loss(x, y)\n",
    "        grads = g.gradient(loss_value, self.trainable_variables)\n",
    "        self.optimizer.apply_gradients(zip(grads, self.trainable_variables))\n",
    "        if print_loss:\n",
    "            print(\"loss: \", loss_value.numpy())\n",
    "    \n",
    "    def predict(self, x):\n",
    "        qw_sample, qb_sample, qsigma_sample = self.variational_distribution().sample()\n",
    "        joint_dist = self.joint_distribution(x)\n",
    "        predictive_distribution, samples = joint_dist.sample_distributions(value=[qw_sample, qb_sample, qsigma_sample, None])\n",
    "        return predictive_distribution, samples\n",
    "    \n",
    "    "
   ]
  },
  {
   "cell_type": "code",
   "execution_count": 4,
   "metadata": {},
   "outputs": [],
   "source": [
    "model = VariationalBayesModel(tf.optimizers.SGD(1e-1))"
   ]
  },
  {
   "cell_type": "code",
   "execution_count": 5,
   "metadata": {},
   "outputs": [
    {
     "data": {
      "text/plain": [
       "(<tf.Tensor: id=88, shape=(), dtype=float32, numpy=5.6546383>,\n",
       " <tf.Tensor: id=109, shape=(), dtype=float32, numpy=0.31189847>,\n",
       " <tf.Tensor: id=143, shape=(), dtype=float32, numpy=1.4220959>,\n",
       " <tf.Tensor: id=177, shape=(100,), dtype=float32, numpy=\n",
       " array([ 12.47839   ,   0.92276275,   8.197302  ,  10.600454  ,\n",
       "         14.059065  ,  -0.8661589 ,   6.221601  ,   2.8532162 ,\n",
       "          7.661247  ,  -9.2614355 ,  -5.997919  ,   5.561102  ,\n",
       "          1.7208993 ,  -0.25545967, -10.96863   ,   6.78297   ,\n",
       "          6.030717  ,   5.302308  ,   1.4680169 ,   7.313816  ,\n",
       "         -2.113021  ,   9.3659935 ,   2.0271804 ,  13.280983  ,\n",
       "         -1.9574577 ,  -7.3985224 ,   2.114698  ,  -9.681598  ,\n",
       "         -9.937612  ,  -0.8526027 ,  -2.497451  ,   5.404141  ,\n",
       "         -0.18469143,  -0.7792499 ,   0.5466834 ,  -0.1858337 ,\n",
       "          8.828292  ,  -7.8696637 ,  -1.477525  ,   0.6025442 ,\n",
       "          6.010813  ,  -0.13703942, -11.360168  ,  -4.464151  ,\n",
       "          4.7191715 ,   8.423402  ,  -1.1547685 ,  -8.829003  ,\n",
       "         11.011827  ,   7.4805584 ,  -1.0936382 ,  -4.157607  ,\n",
       "          4.1995792 ,  -3.7071793 , -15.885001  ,  -7.8513618 ,\n",
       "          4.720751  ,   1.6773183 ,   7.2726083 ,  -3.190159  ,\n",
       "         -1.7171502 ,  -5.8726645 ,  -1.3841372 ,   4.033579  ,\n",
       "         -3.8176    ,  -0.03760004,  -2.6932802 ,  -6.101902  ,\n",
       "          6.513999  ,   5.768333  ,   1.7553295 ,   3.9990423 ,\n",
       "         -2.8519497 ,   8.794959  ,  10.343239  ,   2.1842904 ,\n",
       "         -7.656514  ,   2.180987  ,   5.702097  ,   4.7687516 ,\n",
       "         -3.6692224 ,   7.0747275 ,   1.9236519 ,  -5.4927998 ,\n",
       "         -1.3985621 ,  -8.031878  ,  -0.8259777 ,  10.925388  ,\n",
       "          4.1700225 ,  -5.018875  ,  -6.8735414 ,  -4.186873  ,\n",
       "          8.797459  ,  -9.199774  ,   3.0500581 ,   9.598838  ,\n",
       "         11.598821  ,  -2.2087111 ,  -3.100003  ,   5.28843   ],\n",
       "       dtype=float32)>)"
      ]
     },
     "execution_count": 5,
     "metadata": {},
     "output_type": "execute_result"
    }
   ],
   "source": [
    "model.joint_distribution(tf.random.normal(shape=[100, ])).sample()"
   ]
  },
  {
   "cell_type": "code",
   "execution_count": 6,
   "metadata": {},
   "outputs": [
    {
     "data": {
      "text/plain": [
       "(<tf.Tensor: id=201, shape=(), dtype=float32, numpy=-0.53409106>,\n",
       " <tf.Tensor: id=225, shape=(), dtype=float32, numpy=-0.5607694>,\n",
       " <tf.Tensor: id=271, shape=(), dtype=float32, numpy=2.0530598>)"
      ]
     },
     "execution_count": 6,
     "metadata": {},
     "output_type": "execute_result"
    }
   ],
   "source": [
    "model.variational_distribution().sample()"
   ]
  },
  {
   "cell_type": "code",
   "execution_count": 7,
   "metadata": {},
   "outputs": [],
   "source": [
    "def toy_data():\n",
    "    x = np.random.rand(100).reshape(100, 1)\n",
    "    y = 3*x + 2 + 0.1*np.random.randn(100).reshape(100, 1)\n",
    "    return tf.convert_to_tensor(x, dtype=tf.float32), tf.convert_to_tensor(y, dtype=tf.float32)"
   ]
  },
  {
   "cell_type": "code",
   "execution_count": 8,
   "metadata": {},
   "outputs": [],
   "source": [
    "train_x, train_y = toy_data()"
   ]
  },
  {
   "cell_type": "code",
   "execution_count": 9,
   "metadata": {},
   "outputs": [
    {
     "data": {
      "text/plain": [
       "[<matplotlib.lines.Line2D at 0x7f02700abf28>]"
      ]
     },
     "execution_count": 9,
     "metadata": {},
     "output_type": "execute_result"
    },
    {
     "data": {
      "image/png": "[encoded data removed]",
      "text/plain": [
       "<Figure size 432x288 with 1 Axes>"
      ]
     },
     "metadata": {
      "needs_background": "light"
     },
     "output_type": "display_data"
    }
   ],
   "source": [
    "plt.plot(train_x, train_y, \"o\")"
   ]
  },
  {
   "cell_type": "code",
   "execution_count": 11,
   "metadata": {},
   "outputs": [
    {
     "name": "stdout",
     "output_type": "stream",
     "text": [
      "loss:  1.9683905\n",
      "loss:  -0.26891947\n",
      "loss:  0.86920214\n",
      "loss:  1.5348177\n",
      "loss:  0.4581418\n",
      "loss:  -0.22240496\n",
      "loss:  0.8441076\n",
      "loss:  -0.2844329\n",
      "loss:  0.3220744\n",
      "loss:  0.30397558\n"
     ]
    }
   ],
   "source": [
    "for i in range(1000):\n",
    "    print_flag = True if (i+1)%100 == 0 else False\n",
    "    model.train(train_x, train_y, print_flag)"
   ]
  },
  {
   "cell_type": "code",
   "execution_count": 12,
   "metadata": {},
   "outputs": [],
   "source": [
    "x_test = tf.linspace(-0.5, 1.5, 1000)\n",
    "dist, _ = model.predict(x_test)"
   ]
  },
  {
   "cell_type": "code",
   "execution_count": 13,
   "metadata": {},
   "outputs": [],
   "source": [
    "predictive_dist = dist[-1]"
   ]
  },
  {
   "cell_type": "code",
   "execution_count": 14,
   "metadata": {},
   "outputs": [],
   "source": [
    "sample = predictive_dist.sample()"
   ]
  },
  {
   "cell_type": "code",
   "execution_count": 15,
   "metadata": {},
   "outputs": [
    {
     "data": {
      "text/plain": [
       "[<matplotlib.lines.Line2D at 0x7f027bc6cb70>]"
      ]
     },
     "execution_count": 15,
     "metadata": {},
     "output_type": "execute_result"
    },
    {
     "data": {
      "image/png": "[encoded data removed]",
      "text/plain": [
       "<Figure size 432x288 with 1 Axes>"
      ]
     },
     "metadata": {
      "needs_background": "light"
     },
     "output_type": "display_data"
    }
   ],
   "source": [
    "plt.plot(x_test.numpy(), sample.numpy(), \"o\")"
   ]
  },
  {
   "cell_type": "code",
   "execution_count": 16,
   "metadata": {},
   "outputs": [],
   "source": [
    "many_samples = predictive_dist.sample(10000)\n",
    "mean = tf.reduce_mean(many_samples, axis=0)\n",
    "std = tf.sqrt(tf.reduce_mean((many_samples - mean)**2, axis=0))"
   ]
  },
  {
   "cell_type": "code",
   "execution_count": 17,
   "metadata": {},
   "outputs": [
    {
     "data": {
      "text/plain": [
       "<matplotlib.collections.PolyCollection at 0x7f024403a358>"
      ]
     },
     "execution_count": 17,
     "metadata": {},
     "output_type": "execute_result"
    },
    {
     "data": {
      "image/png": "[encoded data removed]",
      "text/plain": [
       "<Figure size 432x288 with 1 Axes>"
      ]
     },
     "metadata": {
      "needs_background": "light"
     },
     "output_type": "display_data"
    }
   ],
   "source": [
    "plt.plot(train_x, train_y, \"o\")\n",
    "plt.plot(x_test.numpy(), mean.numpy())\n",
    "plt.fill_between(x_test.numpy(), mean+3*std, mean-3*std, alpha=0.3)"
   ]
  },
  {
   "cell_type": "code",
   "execution_count": null,
   "metadata": {},
   "outputs": [],
   "source": []
  }
 ],
 "metadata": {
  "kernelspec": {
   "display_name": "Python 3",
   "language": "python",
   "name": "python3"
  },
  "language_info": {
   "codemirror_mode": {
    "name": "ipython",
    "version": 3
   },
   "file_extension": ".py",
   "mimetype": "text/x-python",
   "name": "python",
   "nbconvert_exporter": "python",
   "pygments_lexer": "ipython3",
   "version": "3.6.8"
  }
 },
 "nbformat": 4,
 "nbformat_minor": 4
}
