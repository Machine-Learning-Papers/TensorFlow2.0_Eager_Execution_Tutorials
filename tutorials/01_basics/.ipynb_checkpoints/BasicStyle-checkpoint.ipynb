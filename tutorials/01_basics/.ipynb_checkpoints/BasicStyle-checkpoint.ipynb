{
 "cells": [
  {
   "cell_type": "markdown",
   "metadata": {
    "colab_type": "text",
    "id": "view-in-github"
   },
   "source": [
    "<a href=\"https://colab.research.google.com/github/hellocybernetics/TensorFlow2.0_Eager_Execution_Tutorials/blob/master/tutorials/01_basics/BasicStyle.ipynb\" target=\"_parent\"><img src=\"https://colab.research.google.com/assets/colab-badge.svg\" alt=\"Open In Colab\"/></a>"
   ]
  },
  {
   "cell_type": "code",
   "execution_count": 1,
   "metadata": {
    "colab": {
     "base_uri": "https://localhost:8080/",
     "height": 89
    },
    "colab_type": "code",
    "id": "2wXVpo2lhf2A",
    "outputId": "f53997e0-5ebd-417f-8a81-da3657a5780f"
   },
   "outputs": [],
   "source": [
    "# !pip install -q --upgrade tf-nightly-2.0-preview"
   ]
  },
  {
   "cell_type": "code",
   "execution_count": 2,
   "metadata": {
    "colab": {},
    "colab_type": "code",
    "id": "S3kHX4Vqhl5O"
   },
   "outputs": [],
   "source": [
    "import tensorflow as tf"
   ]
  },
  {
   "cell_type": "markdown",
   "metadata": {},
   "source": [
    "## TensorFlow 2.0"
   ]
  },
  {
   "cell_type": "code",
   "execution_count": 3,
   "metadata": {},
   "outputs": [
    {
     "data": {
      "text/plain": [
       "'2.0.0'"
      ]
     },
     "execution_count": 3,
     "metadata": {},
     "output_type": "execute_result"
    }
   ],
   "source": [
    "tf.__version__"
   ]
  },
  {
   "cell_type": "markdown",
   "metadata": {
    "colab_type": "text",
    "id": "cdgYCKIShn9M"
   },
   "source": [
    "## Make DataSet"
   ]
  },
  {
   "cell_type": "code",
   "execution_count": 4,
   "metadata": {
    "colab": {},
    "colab_type": "code",
    "id": "lcVt1_Zth3_6"
   },
   "outputs": [],
   "source": [
    "'''\n",
    "If you have numpy data, you can use\n",
    "tensor_data = tf.convert_to_tensor(numpy_data, dtype=tf.float32)\n",
    "for translation into tf.Tensor.\n",
    "'''\n",
    "# example training data\n",
    "feature = tf.random.normal(shape=[50000, 1000])\n",
    "target = tf.random.normal(shape=[50000, 10])\n",
    "\n",
    "# example validation data\n",
    "val_feature = tf.random.normal(shape=[10000, 1000])\n",
    "val_target = tf.random.normal(shape=[10000, 10])\n",
    "\n",
    "# example test data\n",
    "test_feature = tf.random.normal(shape=[5000, 1000])\n",
    "test_target = tf.random.normal(shape=[5000, 10])\n",
    "\n",
    "\n",
    "# make dataset\n",
    "dataset = tf.data.Dataset.from_tensor_slices((feature, target))\n",
    "val_dataset = tf.data.Dataset.from_tensor_slices((val_feature, val_target))\n",
    "test_dataset = tf.data.Dataset.from_tensor_slices((test_feature, test_target))"
   ]
  },
  {
   "cell_type": "code",
   "execution_count": 5,
   "metadata": {
    "colab": {
     "base_uri": "https://localhost:8080/",
     "height": 35
    },
    "colab_type": "code",
    "id": "zFAMHrm7SL5M",
    "outputId": "071d0426-317b-49d0-ffcd-6ec59a91c07a"
   },
   "outputs": [
    {
     "data": {
      "text/plain": [
       "<TensorSliceDataset shapes: ((1000,), (10,)), types: (tf.float32, tf.float32)>"
      ]
     },
     "execution_count": 5,
     "metadata": {},
     "output_type": "execute_result"
    }
   ],
   "source": [
    "# A dataset have shape information except batchsize and data type.\n",
    "dataset"
   ]
  },
  {
   "cell_type": "code",
   "execution_count": 6,
   "metadata": {
    "colab": {},
    "colab_type": "code",
    "id": "s5wtoZOsSzft"
   },
   "outputs": [],
   "source": [
    "# Training data should be shuffled every epoch.\n",
    "# 10000 is buffer size.\n",
    "dataset = dataset.shuffle(10000)\n",
    "\n",
    "# For mini-batch training.\n",
    "# 256 is batch size.\n",
    "dataset = dataset.batch(256)\n",
    "\n",
    "# Of course we can write same code as follows\n",
    "# dataset = dataset.shuffle(10000).batch(256)\n",
    "\n",
    "# validation data and test data do NOT need shuffle.\n",
    "# batch size is as big as possible.\n",
    "val_dataset = val_dataset.batch(10000)\n",
    "test_dataset = test_dataset.batch(5000)"
   ]
  },
  {
   "cell_type": "code",
   "execution_count": 7,
   "metadata": {
    "colab": {
     "base_uri": "https://localhost:8080/",
     "height": 35
    },
    "colab_type": "code",
    "id": "X3JLZxT0UsnB",
    "outputId": "fbf1cfd8-1347-4372-a3f2-bb15db0e434d"
   },
   "outputs": [
    {
     "data": {
      "text/plain": [
       "<BatchDataset shapes: ((None, 1000), (None, 10)), types: (tf.float32, tf.float32)>"
      ]
     },
     "execution_count": 7,
     "metadata": {},
     "output_type": "execute_result"
    }
   ],
   "source": [
    "# dataset is set for batch training.\n",
    "dataset"
   ]
  },
  {
   "cell_type": "markdown",
   "metadata": {
    "colab_type": "text",
    "id": "6vL6rFO6VFBo"
   },
   "source": [
    "## Make Network"
   ]
  },
  {
   "cell_type": "code",
   "execution_count": 8,
   "metadata": {
    "colab": {},
    "colab_type": "code",
    "id": "wBzNdkCyiFGs"
   },
   "outputs": [],
   "source": [
    "class MyNet(tf.keras.Model):\n",
    "    '''\n",
    "    We use basically tf.keras.Model for making network.\n",
    "    This class will manage layers and that's trainable parameters.\n",
    "    '''\n",
    "    def __init__(self):\n",
    "        super(MyNet, self).__init__()\n",
    "        \n",
    "        \n",
    "        # We can use tf.keras.Sequential \n",
    "        # which has a role of putting together some layers.\n",
    "        # This class inherits tf.keras.Model, so this can manege parameters too.\n",
    "        # This class only receive layers.Layer class.\n",
    "        # (Note that tf.keras.Sequential receive tf.keras.layers.ReLU())\n",
    "       \n",
    "        self.layer1 = tf.keras.Sequential([\n",
    "            tf.keras.layers.Dense(1024),\n",
    "            tf.keras.layers.ReLU(),\n",
    "            tf.keras.layers.BatchNormalization(axis=-1),\n",
    "            tf.keras.layers.Dropout(rate=0.2),\n",
    "        ])\n",
    "        \n",
    "        # Of course we can write some layers separately.\n",
    "        \n",
    "        self.dense = tf.keras.layers.Dense(256)\n",
    "        self.bn = tf.keras.layers.BatchNormalization(axis=-1)\n",
    "        self.do = tf.keras.layers.Dropout(rate=0.2)\n",
    "        \n",
    "        self.dense_output = tf.keras.layers.Dense(10)\n",
    "    \n",
    "    # tf.function is jit compiler which translate python code into TF graph.\n",
    "    @tf.function\n",
    "    def call(self, x, training=False):\n",
    "        # tf.keras.Sequential class have training propaty\n",
    "        # which manege behavior of dropout and batchnormalization etc.\n",
    "        h = self.layer1(x, training=training)\n",
    "        \n",
    "        h = self.dense(h)\n",
    "        # we can use tf.nn.relu function instead of tf.keras.layers.ReLU()\n",
    "        h = tf.nn.relu(h)\n",
    "\n",
    "        # BatchNormalization and Dropout class also have training property.\n",
    "        h = self.bn(h, training=training)\n",
    "        h = self.do(h, training=training)\n",
    "        \n",
    "        return self.dense_output(h)"
   ]
  },
  {
   "cell_type": "code",
   "execution_count": 9,
   "metadata": {
    "colab": {},
    "colab_type": "code",
    "id": "60kaVa6BiJzz"
   },
   "outputs": [],
   "source": [
    "model = MyNet()"
   ]
  },
  {
   "cell_type": "code",
   "execution_count": 10,
   "metadata": {
    "colab": {
     "base_uri": "https://localhost:8080/",
     "height": 89
    },
    "colab_type": "code",
    "id": "PTEFbRxqizpf",
    "outputId": "a784eb57-7caf-4333-c869-b20958f32606"
   },
   "outputs": [
    {
     "data": {
      "text/plain": [
       "<tf.Tensor: id=330, shape=(1, 10), dtype=float32, numpy=\n",
       "array([[ 0.00402259, -0.39146245, -0.42376074, -1.3457911 , -0.31376794,\n",
       "         0.9479342 ,  1.1473138 , -0.6806926 ,  0.02132435,  1.5560924 ]],\n",
       "      dtype=float32)>"
      ]
     },
     "execution_count": 10,
     "metadata": {},
     "output_type": "execute_result"
    }
   ],
   "source": [
    "# test execution.\n",
    "model(tf.random.normal(shape=[1, 1000]))"
   ]
  },
  {
   "cell_type": "code",
   "execution_count": 11,
   "metadata": {
    "colab": {
     "base_uri": "https://localhost:8080/",
     "height": 341
    },
    "colab_type": "code",
    "id": "mjM1vGKSj5Ri",
    "outputId": "50f551b4-c586-48eb-94ca-f1640b88dc92"
   },
   "outputs": [
    {
     "name": "stdout",
     "output_type": "stream",
     "text": [
      "Model: \"my_net\"\n",
      "_________________________________________________________________\n",
      "Layer (type)                 Output Shape              Param #   \n",
      "=================================================================\n",
      "sequential (Sequential)      multiple                  1029120   \n",
      "_________________________________________________________________\n",
      "dense_1 (Dense)              multiple                  262400    \n",
      "_________________________________________________________________\n",
      "batch_normalization_1 (Batch multiple                  1024      \n",
      "_________________________________________________________________\n",
      "dropout_1 (Dropout)          multiple                  0         \n",
      "_________________________________________________________________\n",
      "dense_2 (Dense)              multiple                  2570      \n",
      "=================================================================\n",
      "Total params: 1,295,114\n",
      "Trainable params: 1,292,554\n",
      "Non-trainable params: 2,560\n",
      "_________________________________________________________________\n"
     ]
    }
   ],
   "source": [
    "# We can check model compose with model.summary() after first execution.\n",
    "model.summary()"
   ]
  },
  {
   "cell_type": "markdown",
   "metadata": {
    "colab_type": "text",
    "id": "xySVCRU9j7l2"
   },
   "source": [
    "## Training by hand"
   ]
  },
  {
   "cell_type": "code",
   "execution_count": 12,
   "metadata": {
    "colab": {},
    "colab_type": "code",
    "id": "1eQ8DRWTbFjO"
   },
   "outputs": [],
   "source": [
    "optimizer = tf.optimizers.Adam()\n",
    "# for loss execution\n",
    "loss_fn = tf.losses.MeanSquaredError()\n",
    "\n",
    "# for iter loop\n",
    "# This class can have property of loss each iter\n",
    "train_loss = tf.keras.metrics.Mean() \n",
    "val_loss = tf.keras.metrics.Mean()"
   ]
  },
  {
   "cell_type": "code",
   "execution_count": 13,
   "metadata": {
    "colab": {},
    "colab_type": "code",
    "id": "pHTjWBcVbvo6"
   },
   "outputs": [],
   "source": [
    "@tf.function\n",
    "def train_step(feature, target):\n",
    "\n",
    "    with tf.GradientTape() as tape:\n",
    "        y_pred = model(feature, training=True)\n",
    "        loss = loss_fn(target, y_pred)\n",
    "    \n",
    "    grads = tape.gradient(loss, model.variables)\n",
    "    optimizer.apply_gradients(zip(grads, model.variables))\n",
    "    \n",
    "    train_loss.update_state(loss)\n",
    "\n",
    "@tf.function\n",
    "def val_step(feature, target):\n",
    "    \n",
    "    y_pred = model(feature)\n",
    "    loss = loss_fn(target, y_pred)\n",
    "    \n",
    "    val_loss.update_state(loss)"
   ]
  },
  {
   "cell_type": "code",
   "execution_count": 16,
   "metadata": {
    "colab": {
     "base_uri": "https://localhost:8080/",
     "height": 451
    },
    "colab_type": "code",
    "id": "vzeQsq7DdRmu",
    "outputId": "39c7e56c-8dda-41de-9e66-b2022bd50310"
   },
   "outputs": [
    {
     "name": "stdout",
     "output_type": "stream",
     "text": [
      "epoch: 1 tr_loss: 0.9433 val_loss: 1.0346\n",
      "epoch: 2 tr_loss: 0.9121 val_loss: 1.0497\n",
      "epoch: 3 tr_loss: 0.8755 val_loss: 1.0695\n",
      "epoch: 4 tr_loss: 0.8345 val_loss: 1.0914\n",
      "epoch: 5 tr_loss: 0.7954 val_loss: 1.1103\n",
      "epoch: 6 tr_loss: 0.7531 val_loss: 1.1291\n",
      "epoch: 7 tr_loss: 0.7167 val_loss: 1.1449\n",
      "epoch: 8 tr_loss: 0.6786 val_loss: 1.1546\n",
      "epoch: 9 tr_loss: 0.6426 val_loss: 1.1676\n",
      "epoch: 10 tr_loss: 0.6140 val_loss: 1.1774\n"
     ]
    }
   ],
   "source": [
    "for epoch in range(10):\n",
    "    \n",
    "    for _, (batch_feature, batch_target) in enumerate(dataset):\n",
    "        with tf.device(\"/gpu:0\"):\n",
    "            train_step(batch_feature, batch_target)\n",
    "        \n",
    "    for _, (batch_feature, batch_target) in enumerate(val_dataset):\n",
    "        with tf.device(\"/gpu:0\"):\n",
    "            loss_ = val_step(batch_feature, batch_target)\n",
    "\n",
    "    epoch_loss = train_loss.result()\n",
    "    epoch_loss_val = val_loss.result()\n",
    "\n",
    "    print('epoch: {:} tr_loss: {:.4f} val_loss: {:.4f}'.format(\n",
    "        epoch + 1, epoch_loss, epoch_loss_val))\n",
    "\n",
    "    train_loss.reset_states()\n",
    "    val_loss.reset_states()"
   ]
  },
  {
   "cell_type": "code",
   "execution_count": null,
   "metadata": {
    "colab": {},
    "colab_type": "code",
    "id": "74I_3WOkejci"
   },
   "outputs": [],
   "source": []
  }
 ],
 "metadata": {
  "colab": {
   "collapsed_sections": [],
   "include_colab_link": true,
   "name": "BasicStyle.ipynb",
   "provenance": [],
   "version": "0.3.2"
  },
  "kernelspec": {
   "display_name": "Python 3",
   "language": "python",
   "name": "python3"
  },
  "language_info": {
   "codemirror_mode": {
    "name": "ipython",
    "version": 3
   },
   "file_extension": ".py",
   "mimetype": "text/x-python",
   "name": "python",
   "nbconvert_exporter": "python",
   "pygments_lexer": "ipython3",
   "version": "3.6.8"
  }
 },
 "nbformat": 4,
 "nbformat_minor": 4
}
