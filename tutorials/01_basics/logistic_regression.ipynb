{
 "cells": [
  {
   "cell_type": "markdown",
   "metadata": {
    "colab_type": "text",
    "id": "view-in-github"
   },
   "source": [
    "<a href=\"https://colab.research.google.com/github/hellocybernetics/TensorFlow_Eager_Execution_Tutorials/blob/master/tutorials/01_basics/logistic_regression.ipynb\" target=\"_parent\"><img src=\"https://colab.research.google.com/assets/colab-badge.svg\" alt=\"Open In Colab\"/></a>"
   ]
  },
  {
   "cell_type": "code",
   "execution_count": 1,
   "metadata": {
    "colab": {
     "base_uri": "https://localhost:8080/",
     "height": 667
    },
    "colab_type": "code",
    "id": "D1OWeBVgXt5B",
    "outputId": "2a7beccd-ebf7-48f3-b665-14989aa02a3c"
   },
   "outputs": [],
   "source": [
    "# !pip install tf-nightly-2.0-preview"
   ]
  },
  {
   "cell_type": "code",
   "execution_count": 5,
   "metadata": {
    "colab": {},
    "colab_type": "code",
    "id": "87bcSelqbG0B"
   },
   "outputs": [],
   "source": [
    "import tensorflow as tf\n",
    "import numpy as np\n",
    "import matplotlib.pyplot as plt\n",
    "%matplotlib inline\n",
    "\n",
    "plt.style.use(\"seaborn\")\n",
    "\n",
    "L = tf.keras.layers"
   ]
  },
  {
   "cell_type": "code",
   "execution_count": 6,
   "metadata": {
    "colab": {},
    "colab_type": "code",
    "id": "mHu0HEYebXtC"
   },
   "outputs": [],
   "source": [
    "x_train_p = np.random.randn(20, 2) + 0.9\n",
    "x_train_n = np.random.randn(20, 2) - 0.9\n",
    "\n",
    "x_train = np.vstack([x_train_p, x_train_n])\n",
    "y_train = np.array([1] * 20 + [0] * 20).reshape(-1, 1)"
   ]
  },
  {
   "cell_type": "code",
   "execution_count": 7,
   "metadata": {
    "colab": {
     "base_uri": "https://localhost:8080/",
     "height": 283
    },
    "colab_type": "code",
    "id": "BdhQiS69by1w",
    "outputId": "0bc47f23-d90a-4b40-c810-f5d2a7fb1369"
   },
   "outputs": [
    {
     "data": {
      "text/plain": [
       "[<matplotlib.lines.Line2D at 0x7f00cfe69f98>]"
      ]
     },
     "execution_count": 7,
     "metadata": {},
     "output_type": "execute_result"
    },
    {
     "data": {
      "image/png": "[encoded data removed]",
      "text/plain": [
       "<Figure size 576x396 with 1 Axes>"
      ]
     },
     "metadata": {},
     "output_type": "display_data"
    }
   ],
   "source": [
    "plt.plot(x_train_p[:, 0], x_train_p[:, 1], 'ro')\n",
    "plt.plot(x_train_n[:, 0], x_train_n[:, 1], 'bo')"
   ]
  },
  {
   "cell_type": "code",
   "execution_count": 14,
   "metadata": {
    "colab": {},
    "colab_type": "code",
    "id": "pbNzBs8EcK6W"
   },
   "outputs": [],
   "source": [
    "# Hyper-parameters\n",
    "input_size = 2\n",
    "output_size = 1\n",
    "num_epochs = 100\n",
    "learning_rate = 1e-3\n",
    "\n",
    "# convert to tensor\n",
    "x_train_ = tf.convert_to_tensor(x_train, dtype=tf.float32)\n",
    "y_train_ = tf.convert_to_tensor(y_train, dtype=tf.float32)"
   ]
  },
  {
   "cell_type": "code",
   "execution_count": 15,
   "metadata": {
    "colab": {},
    "colab_type": "code",
    "id": "uQXYbQFrcd4R"
   },
   "outputs": [],
   "source": [
    "# Logistic regression model\n",
    "model = L.Dense(output_size, activation=\"sigmoid\")\n",
    "\n",
    "# loss function\n",
    "def loss_fn(model, x, y):\n",
    "    predict_y = model(x)\n",
    "    # first arg: true_y,  second arg: predict_y\n",
    "    return tf.keras.losses.binary_crossentropy(y, predict_y)\n",
    "\n",
    "def accuracy_fn(model, x, y):\n",
    "    predict_y = model(x)\n",
    "    return tf.keras.metrics.binary_accuracy(y, predict_y)\n",
    "\n",
    "# optimizer\n",
    "optimizer = tf.keras.optimizers.SGD(learning_rate=learning_rate)"
   ]
  },
  {
   "cell_type": "code",
   "execution_count": 16,
   "metadata": {
    "colab": {
     "base_uri": "https://localhost:8080/",
     "height": 283
    },
    "colab_type": "code",
    "id": "nsSpGV4vlBnK",
    "outputId": "5d6633c2-3a56-43cd-f4ff-5579f74e68ac"
   },
   "outputs": [
    {
     "data": {
      "text/plain": [
       "[-3.5, 3.5, -3.5, 3.5]"
      ]
     },
     "execution_count": 16,
     "metadata": {},
     "output_type": "execute_result"
    },
    {
     "data": {
      "image/png": "[encoded data removed]",
      "text/plain": [
       "<Figure size 576x396 with 1 Axes>"
      ]
     },
     "metadata": {},
     "output_type": "display_data"
    }
   ],
   "source": [
    "model(x_train_)\n",
    "coeffs = model.weights[0].numpy()\n",
    "bias = model.weights[1].numpy()\n",
    "\n",
    "plt.plot(x_train_p[:, 0], x_train_p[:, 1], 'ro')\n",
    "plt.plot(x_train_n[:, 0], x_train_n[:, 1], 'bo')\n",
    "\n",
    "plot_x = np.array([min(x_train[:,0])-0.5, max(x_train[:,0])+0.5])\n",
    "plot_y = - (bias + coeffs[0]*plot_x) / coeffs[1]\n",
    "plt.plot(plot_x, plot_y, 'g')\n",
    "plt.axis([-3.5, 3.5, -3.5, 3.5])"
   ]
  },
  {
   "cell_type": "code",
   "execution_count": 17,
   "metadata": {
    "colab": {
     "base_uri": "https://localhost:8080/",
     "height": 377
    },
    "colab_type": "code",
    "id": "gl7aAemcdgCZ",
    "outputId": "0a34f36c-6c9b-4243-860e-2824656f4377"
   },
   "outputs": [
    {
     "name": "stdout",
     "output_type": "stream",
     "text": [
      "loss: 11.965,  acc: 0.8999999761581421\n",
      "loss: 11.688,  acc: 0.8999999761581421\n",
      "loss: 11.440,  acc: 0.8999999761581421\n",
      "loss: 11.218,  acc: 0.8999999761581421\n",
      "loss: 11.017,  acc: 0.8999999761581421\n",
      "loss: 10.834,  acc: 0.8999999761581421\n",
      "loss: 10.668,  acc: 0.8999999761581421\n",
      "loss: 10.516,  acc: 0.8999999761581421\n",
      "loss: 10.376,  acc: 0.8999999761581421\n",
      "loss: 10.247,  acc: 0.8999999761581421\n",
      "loss: 10.129,  acc: 0.8999999761581421\n",
      "loss: 10.018,  acc: 0.8999999761581421\n",
      "loss: 9.916,  acc: 0.8999999761581421\n",
      "loss: 9.821,  acc: 0.8999999761581421\n",
      "loss: 9.732,  acc: 0.8999999761581421\n",
      "loss: 9.649,  acc: 0.8999999761581421\n",
      "loss: 9.571,  acc: 0.8999999761581421\n",
      "loss: 9.498,  acc: 0.8999999761581421\n",
      "loss: 9.430,  acc: 0.8999999761581421\n",
      "loss: 9.365,  acc: 0.8999999761581421\n"
     ]
    }
   ],
   "source": [
    "for epoch in range(num_epochs):\n",
    "    with tf.GradientTape() as tape:\n",
    "        loss = loss_fn(model, x_train_, y_train_)\n",
    "    grads = tape.gradient(loss, model.variables)\n",
    "    \n",
    "    accuracy = accuracy_fn(model=model, x=x_train_, y=y_train_)\n",
    "    \n",
    "    if (epoch+1) % 5 == 0:\n",
    "        print(\n",
    "            \"loss: {:0.3f},  acc: {}\".format(\n",
    "                tf.reduce_sum(loss).numpy(),\n",
    "                accuracy.numpy().mean()   \n",
    "            )  \n",
    "        ) \n",
    "    # update prameters using grads\n",
    "    optimizer.apply_gradients(zip(grads, model.variables))"
   ]
  },
  {
   "cell_type": "code",
   "execution_count": 18,
   "metadata": {
    "colab": {
     "base_uri": "https://localhost:8080/",
     "height": 283
    },
    "colab_type": "code",
    "id": "6o1jBmIrkPR0",
    "outputId": "9867775d-12e3-426f-e30d-a4814c1c661b"
   },
   "outputs": [
    {
     "data": {
      "text/plain": [
       "[-3.5, 3.5, -3.5, 3.5]"
      ]
     },
     "execution_count": 18,
     "metadata": {},
     "output_type": "execute_result"
    },
    {
     "data": {
      "image/png": "[encoded data removed]",
      "text/plain": [
       "<Figure size 576x396 with 1 Axes>"
      ]
     },
     "metadata": {},
     "output_type": "display_data"
    }
   ],
   "source": [
    "coeffs = model.weights[0].numpy()\n",
    "bias = model.weights[1].numpy()\n",
    "\n",
    "plt.plot(x_train_p[:, 0], x_train_p[:, 1], 'ro')\n",
    "plt.plot(x_train_n[:, 0], x_train_n[:, 1], 'bo')\n",
    "\n",
    "plot_x = np.array([min(x_train[:,0])-0.5, max(x_train[:,0])+0.5])\n",
    "plot_y = - (bias + coeffs[0]*plot_x) / coeffs[1]\n",
    "plt.plot(plot_x, plot_y, 'g')\n",
    "plt.axis([-3.5, 3.5, -3.5, 3.5])"
   ]
  },
  {
   "cell_type": "code",
   "execution_count": null,
   "metadata": {
    "colab": {},
    "colab_type": "code",
    "id": "oWWNjBYPeYsO"
   },
   "outputs": [],
   "source": []
  }
 ],
 "metadata": {
  "colab": {
   "collapsed_sections": [],
   "include_colab_link": true,
   "name": "logistic_regression.ipynb",
   "provenance": [],
   "version": "0.3.2"
  },
  "kernelspec": {
   "display_name": "Python 3",
   "language": "python",
   "name": "python3"
  },
  "language_info": {
   "codemirror_mode": {
    "name": "ipython",
    "version": 3
   },
   "file_extension": ".py",
   "mimetype": "text/x-python",
   "name": "python",
   "nbconvert_exporter": "python",
   "pygments_lexer": "ipython3",
   "version": "3.6.8"
  }
 },
 "nbformat": 4,
 "nbformat_minor": 4
}
