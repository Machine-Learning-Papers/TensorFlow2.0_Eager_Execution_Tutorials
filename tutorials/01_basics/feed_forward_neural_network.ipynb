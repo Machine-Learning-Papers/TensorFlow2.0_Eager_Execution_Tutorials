{
 "cells": [
  {
   "cell_type": "markdown",
   "metadata": {
    "colab_type": "text",
    "id": "view-in-github"
   },
   "source": [
    "<a href=\"https://colab.research.google.com/github/hellocybernetics/TensorFlow_Eager_Execution_Tutorials/blob/master/tutorials/01_basics/feed_forward_neural_network.ipynb\" target=\"_parent\"><img src=\"https://colab.research.google.com/assets/colab-badge.svg\" alt=\"Open In Colab\"/></a>"
   ]
  },
  {
   "cell_type": "code",
   "execution_count": 1,
   "metadata": {
    "colab": {
     "base_uri": "https://localhost:8080/",
     "height": 667
    },
    "colab_type": "code",
    "id": "WK2VHiQ2WVx5",
    "outputId": "bad64a6d-0ca7-401c-cbe5-3406740e1570"
   },
   "outputs": [],
   "source": [
    "# !pip install tf-nightly-2.0-preview"
   ]
  },
  {
   "cell_type": "code",
   "execution_count": 11,
   "metadata": {
    "colab": {},
    "colab_type": "code",
    "id": "iWsdCo5pWDK0"
   },
   "outputs": [],
   "source": [
    "import numpy as np\n",
    "import tensorflow as tf\n",
    "import matplotlib.pyplot as plt\n",
    "%matplotlib inline\n",
    "\n",
    "plt.style.use(\"seaborn\")"
   ]
  },
  {
   "cell_type": "code",
   "execution_count": 12,
   "metadata": {
    "colab": {},
    "colab_type": "code",
    "id": "fobT_XiMWLVB"
   },
   "outputs": [],
   "source": [
    "L = tf.keras.layers"
   ]
  },
  {
   "cell_type": "code",
   "execution_count": 13,
   "metadata": {
    "colab": {},
    "colab_type": "code",
    "id": "s-cqL8Bk8gwv"
   },
   "outputs": [],
   "source": [
    "def toy_data():\n",
    "    x = np.linspace(-2, 2, 100).reshape(-1, 1)\n",
    "    a1 = -3\n",
    "    a2 = -2\n",
    "    a3 = 2\n",
    "    b = 1\n",
    "    y = a1*x + a2*x**2 + a3*x**3 + 3*np.random.randn(100, 1)\n",
    "    return x, y\n",
    "\n",
    "x, y = toy_data()"
   ]
  },
  {
   "cell_type": "markdown",
   "metadata": {
    "colab_type": "text",
    "id": "jXPwR6lO8jXk"
   },
   "source": [
    "$$\n",
    "\\begin{align}\n",
    "y &= -3x -2x^2 + 2x^3 + 3\\epsilon \\\\\n",
    "\\epsilon &\\sim N(0, 1)\n",
    "\\end{align}\n",
    "$$"
   ]
  },
  {
   "cell_type": "code",
   "execution_count": 14,
   "metadata": {
    "colab": {
     "base_uri": "https://localhost:8080/",
     "height": 284
    },
    "colab_type": "code",
    "id": "jw2E1tkRW2j1",
    "outputId": "2ad59353-9c40-4d93-cf0a-142704758a4f"
   },
   "outputs": [
    {
     "data": {
      "text/plain": [
       "[<matplotlib.lines.Line2D at 0x7f88cc76e7b8>]"
      ]
     },
     "execution_count": 14,
     "metadata": {},
     "output_type": "execute_result"
    },
    {
     "data": {
      "image/png": "[encoded data removed]",
      "text/plain": [
       "<Figure size 576x396 with 1 Axes>"
      ]
     },
     "metadata": {},
     "output_type": "display_data"
    }
   ],
   "source": [
    "# polynomial\n",
    "plt.plot(x, y, \"bo\")"
   ]
  },
  {
   "cell_type": "code",
   "execution_count": 15,
   "metadata": {
    "colab": {},
    "colab_type": "code",
    "id": "7Cn5TAmZXB0E"
   },
   "outputs": [],
   "source": [
    "x_train = tf.convert_to_tensor(x, dtype=tf.float32)\n",
    "y_train = tf.convert_to_tensor(y, dtype=tf.float32)"
   ]
  },
  {
   "cell_type": "markdown",
   "metadata": {
    "colab_type": "text",
    "id": "5M45YfYf8_sG"
   },
   "source": [
    "#### モデル1\n",
    "3層パーセプトロンで活性化関数ReLU\n",
    "\n",
    "#### モデル2\n",
    "3層パーセプトロンで活性化関数tanh"
   ]
  },
  {
   "cell_type": "code",
   "execution_count": 16,
   "metadata": {
    "colab": {},
    "colab_type": "code",
    "id": "Q4_tI2ulXOku"
   },
   "outputs": [],
   "source": [
    "learning_rate = 1e-4\n",
    "hidden_size = 10\n",
    "\n",
    "model_relu = tf.keras.Sequential([\n",
    "    L.Dense(hidden_size, activation=\"relu\"),\n",
    "    L.Dense(hidden_size, activation=\"relu\"),\n",
    "    L.Dense(1),\n",
    "])\n",
    "\n",
    "model_tanh = tf.keras.Sequential([\n",
    "    L.Dense(hidden_size, activation=\"tanh\"),\n",
    "    L.Dense(hidden_size, activation=\"tanh\"),\n",
    "    L.Dense(1),\n",
    "])\n",
    "\n",
    "def loss_fn(model, x, y):\n",
    "    y_ = model(x)\n",
    "    return tf.keras.losses.mean_squared_error(y, y_)\n",
    "\n",
    "optimizer = tf.keras.optimizers.SGD(learning_rate)"
   ]
  },
  {
   "cell_type": "code",
   "execution_count": 17,
   "metadata": {
    "colab": {
     "base_uri": "https://localhost:8080/",
     "height": 631
    },
    "colab_type": "code",
    "id": "y1GHJcmFZUlr",
    "outputId": "50592ace-ab0b-41ba-b6ea-37b0e2e04cc0"
   },
   "outputs": [
    {
     "name": "stdout",
     "output_type": "stream",
     "text": [
      "epoch  100\n",
      "loss_relu : 11.385873794555664\n",
      "loss_tanh : 18.189977645874023\n",
      "epoch  200\n",
      "loss_relu : 9.858541488647461\n",
      "loss_tanh : 10.45016860961914\n",
      "epoch  300\n",
      "loss_relu : 9.27541732788086\n",
      "loss_tanh : 9.092321395874023\n",
      "epoch  400\n",
      "loss_relu : 8.984872817993164\n",
      "loss_tanh : 8.585498809814453\n",
      "epoch  500\n",
      "loss_relu : 8.657764434814453\n",
      "loss_tanh : 8.401622772216797\n",
      "epoch  600\n",
      "loss_relu : 8.443976402282715\n",
      "loss_tanh : 8.336479187011719\n",
      "epoch  700\n",
      "loss_relu : 8.336174011230469\n",
      "loss_tanh : 8.303749084472656\n",
      "epoch  800\n",
      "loss_relu : 8.285758972167969\n",
      "loss_tanh : 8.343177795410156\n",
      "epoch  900\n",
      "loss_relu : 8.258354187011719\n",
      "loss_tanh : 8.248286247253418\n",
      "epoch  1000\n",
      "loss_relu : 8.244207382202148\n",
      "loss_tanh : 8.238754272460938\n"
     ]
    }
   ],
   "source": [
    "for i in range(1000):\n",
    "    # training model_relu\n",
    "    with tf.GradientTape(persistent=True) as tape:\n",
    "        loss_relu = loss_fn(model_relu, x_train, y_train)\n",
    "        loss_tanh = loss_fn(model_tanh, x_train, y_train)\n",
    "    \n",
    "    grads_relu = tape.gradient(loss_relu, model_relu.variables)\n",
    "    grads_tanh = tape.gradient(loss_tanh, model_tanh.variables)\n",
    "    \n",
    "    optimizer.apply_gradients(zip(grads_relu, model_relu.variables))\n",
    "    optimizer.apply_gradients(zip(grads_tanh, model_tanh.variables))\n",
    "       \n",
    "    if (i + 1) % 100 == 0:\n",
    "        print(\"epoch \", i + 1)\n",
    "        print(\"loss_relu : {}\".format(loss_relu.numpy().mean()))\n",
    "        print(\"loss_tanh : {}\".format(loss_tanh.numpy().mean()))        "
   ]
  },
  {
   "cell_type": "code",
   "execution_count": 18,
   "metadata": {
    "colab": {},
    "colab_type": "code",
    "id": "waHPjH_jZ0J2"
   },
   "outputs": [],
   "source": [
    "y_predict_relu = model_relu(x_train).numpy()\n",
    "y_predict_tanh = model_tanh(x_train).numpy()"
   ]
  },
  {
   "cell_type": "code",
   "execution_count": 19,
   "metadata": {
    "colab": {
     "base_uri": "https://localhost:8080/",
     "height": 284
    },
    "colab_type": "code",
    "id": "gR7cTBDGbMrM",
    "outputId": "6755b89c-032c-4f39-833c-e7c5ad977486"
   },
   "outputs": [
    {
     "data": {
      "text/plain": [
       "[<matplotlib.lines.Line2D at 0x7f88cc6d6d30>]"
      ]
     },
     "execution_count": 19,
     "metadata": {},
     "output_type": "execute_result"
    },
    {
     "data": {
      "image/png": "[encoded data removed]",
      "text/plain": [
       "<Figure size 576x396 with 1 Axes>"
      ]
     },
     "metadata": {},
     "output_type": "display_data"
    }
   ],
   "source": [
    "# polynomial data\n",
    "plt.plot(x, y, \"bo\", alpha=0.3)\n",
    "# model_relu predict\n",
    "plt.plot(x, y_predict_relu, color=\"r\")\n",
    "# model_tanh predict\n",
    "plt.plot(x, y_predict_tanh, color=\"g\")"
   ]
  },
  {
   "cell_type": "code",
   "execution_count": null,
   "metadata": {
    "colab": {},
    "colab_type": "code",
    "id": "w7zdRyZ-bcA3"
   },
   "outputs": [],
   "source": []
  },
  {
   "cell_type": "code",
   "execution_count": null,
   "metadata": {},
   "outputs": [],
   "source": []
  }
 ],
 "metadata": {
  "colab": {
   "collapsed_sections": [],
   "include_colab_link": true,
   "name": "feed_forward_neural_network.ipynb",
   "provenance": [],
   "version": "0.3.2"
  },
  "kernelspec": {
   "display_name": "Python 3",
   "language": "python",
   "name": "python3"
  },
  "language_info": {
   "codemirror_mode": {
    "name": "ipython",
    "version": 3
   },
   "file_extension": ".py",
   "mimetype": "text/x-python",
   "name": "python",
   "nbconvert_exporter": "python",
   "pygments_lexer": "ipython3",
   "version": "3.6.8"
  }
 },
 "nbformat": 4,
 "nbformat_minor": 4
}
