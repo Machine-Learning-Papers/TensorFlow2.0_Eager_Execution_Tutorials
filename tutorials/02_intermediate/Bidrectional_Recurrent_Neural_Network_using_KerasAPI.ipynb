{
  "nbformat": 4,
  "nbformat_minor": 0,
  "metadata": {
    "colab": {
      "name": "Recurrent_Neural_Network",
      "version": "0.3.2",
      "provenance": [],
      "collapsed_sections": [],
      "include_colab_link": true
    },
    "kernelspec": {
      "display_name": "Python 3",
      "language": "python",
      "name": "python3"
    },
    "accelerator": "GPU"
  },
  "cells": [
    {
      "cell_type": "markdown",
      "metadata": {
        "id": "view-in-github",
        "colab_type": "text"
      },
      "source": [
        "<a href=\"https://colab.research.google.com/github/hellocybernetics/TensorFlow_Eager_Execution_Tutorials/blob/master/tutorials/02_intermediate/Bidrectional_Recurrent_Neural_Network_using_KerasAPI.ipynb\" target=\"_parent\"><img src=\"https://colab.research.google.com/assets/colab-badge.svg\" alt=\"Open In Colab\"/></a>"
      ]
    },
    {
      "metadata": {
        "id": "gWl8OQ-3OgEE",
        "colab_type": "code",
        "colab": {
          "base_uri": "https://localhost:8080/",
          "height": 359
        },
        "outputId": "d0c1dc16-69a5-4b0c-c2c1-e260db60a073"
      },
      "cell_type": "code",
      "source": [
        "!pip install tf-nightly-2.0-preview"
      ],
      "execution_count": 1,
      "outputs": [
        {
          "output_type": "stream",
          "text": [
            "Requirement already satisfied: tf-nightly-2.0-preview in /usr/local/lib/python3.6/dist-packages (2.0.0.dev20190125)\n",
            "Requirement already satisfied: tensorflow-estimator-2.0-preview in /usr/local/lib/python3.6/dist-packages (from tf-nightly-2.0-preview) (1.13.0.dev2019012500)\n",
            "Requirement already satisfied: astor>=0.6.0 in /usr/local/lib/python3.6/dist-packages (from tf-nightly-2.0-preview) (0.7.1)\n",
            "Requirement already satisfied: wheel>=0.26 in /usr/local/lib/python3.6/dist-packages (from tf-nightly-2.0-preview) (0.32.3)\n",
            "Requirement already satisfied: absl-py>=0.1.6 in /usr/local/lib/python3.6/dist-packages (from tf-nightly-2.0-preview) (0.7.0)\n",
            "Requirement already satisfied: google-pasta>=0.1.1 in /usr/local/lib/python3.6/dist-packages (from tf-nightly-2.0-preview) (0.1.1)\n",
            "Requirement already satisfied: keras-preprocessing>=1.0.5 in /usr/local/lib/python3.6/dist-packages (from tf-nightly-2.0-preview) (1.0.5)\n",
            "Requirement already satisfied: termcolor>=1.1.0 in /usr/local/lib/python3.6/dist-packages (from tf-nightly-2.0-preview) (1.1.0)\n",
            "Requirement already satisfied: keras-applications>=1.0.6 in /usr/local/lib/python3.6/dist-packages (from tf-nightly-2.0-preview) (1.0.6)\n",
            "Requirement already satisfied: numpy>=1.13.3 in /usr/local/lib/python3.6/dist-packages (from tf-nightly-2.0-preview) (1.14.6)\n",
            "Requirement already satisfied: six>=1.10.0 in /usr/local/lib/python3.6/dist-packages (from tf-nightly-2.0-preview) (1.11.0)\n",
            "Requirement already satisfied: tb-nightly<1.14.0a0,>=1.13.0a0 in /usr/local/lib/python3.6/dist-packages (from tf-nightly-2.0-preview) (1.13.0a20190125)\n",
            "Requirement already satisfied: grpcio>=1.8.6 in /usr/local/lib/python3.6/dist-packages (from tf-nightly-2.0-preview) (1.15.0)\n",
            "Requirement already satisfied: gast>=0.2.0 in /usr/local/lib/python3.6/dist-packages (from tf-nightly-2.0-preview) (0.2.2)\n",
            "Requirement already satisfied: protobuf>=3.6.1 in /usr/local/lib/python3.6/dist-packages (from tf-nightly-2.0-preview) (3.6.1)\n",
            "Requirement already satisfied: h5py in /usr/local/lib/python3.6/dist-packages (from keras-applications>=1.0.6->tf-nightly-2.0-preview) (2.8.0)\n",
            "Requirement already satisfied: werkzeug>=0.11.15 in /usr/local/lib/python3.6/dist-packages (from tb-nightly<1.14.0a0,>=1.13.0a0->tf-nightly-2.0-preview) (0.14.1)\n",
            "Requirement already satisfied: markdown>=2.6.8 in /usr/local/lib/python3.6/dist-packages (from tb-nightly<1.14.0a0,>=1.13.0a0->tf-nightly-2.0-preview) (3.0.1)\n",
            "Requirement already satisfied: setuptools in /usr/local/lib/python3.6/dist-packages (from protobuf>=3.6.1->tf-nightly-2.0-preview) (40.6.3)\n"
          ],
          "name": "stdout"
        }
      ]
    },
    {
      "metadata": {
        "colab_type": "code",
        "id": "VkJooysd9saV",
        "colab": {}
      },
      "cell_type": "code",
      "source": [
        "import numpy as np\n",
        "import tensorflow as tf\n",
        "import matplotlib.pyplot as plt\n",
        "%matplotlib inline\n",
        "\n",
        "L = tf.keras.layers"
      ],
      "execution_count": 0,
      "outputs": []
    },
    {
      "metadata": {
        "colab_type": "code",
        "id": "mvWroGCq-AGM",
        "outputId": "509860ba-82ec-40a7-fd2f-31fe4dc8ae50",
        "colab": {
          "base_uri": "https://localhost:8080/",
          "height": 89
        }
      },
      "cell_type": "code",
      "source": [
        "# Hyper parameters\n",
        "num_epochs = 5\n",
        "num_classes = 10\n",
        "batch_size = 512\n",
        "learning_rate = 0.001\n",
        "\n",
        "(x_train, y_train), (x_test, y_test) = tf.keras.datasets.mnist.load_data()\n",
        "\n",
        "print(\"training_data: \", x_train.shape)\n",
        "print(\"test_data: \", x_test.shape)\n",
        "print(\"training_label: \", y_train.shape)\n",
        "print(\"test_label: \", y_test.shape)"
      ],
      "execution_count": 3,
      "outputs": [
        {
          "output_type": "stream",
          "text": [
            "training_data:  (60000, 28, 28)\n",
            "test_data:  (10000, 28, 28)\n",
            "training_label:  (60000,)\n",
            "test_label:  (10000,)\n"
          ],
          "name": "stdout"
        }
      ]
    },
    {
      "metadata": {
        "colab_type": "code",
        "id": "int-eal1-RBm",
        "outputId": "0de430a5-0c5f-4c83-bb77-3c9d1506ae81",
        "colab": {
          "base_uri": "https://localhost:8080/",
          "height": 89
        }
      },
      "cell_type": "code",
      "source": [
        "x_train_eager = tf.convert_to_tensor(x_train, dtype=tf.float32)\n",
        "x_test_eager = tf.convert_to_tensor(x_test, dtype=tf.float32)\n",
        "y_train_eager = tf.reshape(tf.one_hot(y_train, 10), (-1, 10))\n",
        "y_test_eager = tf.reshape(tf.one_hot(y_test, 10), (-1, 10))\n",
        "\n",
        "print(\"training_data: \", x_train_eager.shape)\n",
        "print(\"test_data: \", x_test_eager.shape)\n",
        "print(\"training_label: \", y_train_eager.shape)\n",
        "print(\"test_label: \", y_test_eager.shape)"
      ],
      "execution_count": 4,
      "outputs": [
        {
          "output_type": "stream",
          "text": [
            "training_data:  (60000, 28, 28)\n",
            "test_data:  (10000, 28, 28)\n",
            "training_label:  (60000, 10)\n",
            "test_label:  (10000, 10)\n"
          ],
          "name": "stdout"
        }
      ]
    },
    {
      "metadata": {
        "colab_type": "text",
        "id": "jwcKjSDNGD5W"
      },
      "cell_type": "markdown",
      "source": [
        "### DataSet\n",
        "You make Dataset using `tf.data.Dataset` Class but Keras API doesn't need this dataset. If you write training loop code manually, `Dataset` class is very useful. And using keras API, you need numpy.array inputs instead of tf.Tensor. I don't know why...so you only need numpy preprocessing (or get numpy.array from tf.Tensor using numpy() method after preprocessing using function of tf).\n",
        "\n",
        "### NOTE\n",
        "This notebook we don't need 'tf.data.Dataset'. This code only just for reference."
      ]
    },
    {
      "metadata": {
        "colab_type": "code",
        "id": "YNU_cq4L-u10",
        "colab": {}
      },
      "cell_type": "code",
      "source": [
        "train_dataset = (\n",
        "    tf.data.Dataset.from_tensor_slices((x_train_eager, y_train_eager))\n",
        "    .batch(batch_size)\n",
        "    .shuffle(10000)\n",
        ")\n",
        "train_dataset = train_dataset.repeat()"
      ],
      "execution_count": 0,
      "outputs": []
    },
    {
      "metadata": {
        "colab_type": "code",
        "id": "_npuvGwv-588",
        "colab": {}
      },
      "cell_type": "code",
      "source": [
        "test_dataset = (\n",
        "    tf.data.Dataset.from_tensor_slices((x_test_eager, y_test_eager))\n",
        "    .batch(1000)\n",
        "    .shuffle(10000)\n",
        ")\n",
        "test_dataset = test_dataset.repeat()"
      ],
      "execution_count": 0,
      "outputs": []
    },
    {
      "metadata": {
        "colab_type": "text",
        "id": "e-Z06hTWOx4P"
      },
      "cell_type": "markdown",
      "source": [
        "### RNN using LSTM\n",
        "In keras API, LSTM recives inputs tensor whose shape is (batch_size, seqence_length, feature_dim), and output tensor whose shape is (batch_size, fearure_dim).When you need all time sequence data, you have to give `return_sequences=True` to LSTM's constractor. Generally, when you stack LSTM's, you need all sequence data.\n",
        "\n",
        "We use  just only `tf.keras.layers.Bidirectional` for using Bidrectional LSTM."
      ]
    },
    {
      "metadata": {
        "colab_type": "code",
        "id": "gz5RrFnm_HzM",
        "colab": {}
      },
      "cell_type": "code",
      "source": [
        "class RNN(tf.keras.Model):\n",
        "    def __init__(self, hidden_size=10, num_layers=2, num_classes=10):\n",
        "        super(RNN, self).__init__(name='mnist_rnn')\n",
        "        self.hidden_size = hidden_size\n",
        "        self.num_layers = num_layers\n",
        "        \n",
        "        self.lstm = self.get_lstm_layers(hidden_size, num_layers)            \n",
        "        self.fc = L.Dense(num_classes, activation=\"softmax\")\n",
        "    \n",
        "    @staticmethod\n",
        "    def get_lstm_layers(hidden_size, num_layers):\n",
        "        lstm_layers = []\n",
        "        # we need all sequence data. write return_sequences=True! \n",
        "        for i in range(num_layers-1):\n",
        "            lstm_layers.append(\n",
        "                L.Bidirectional(\n",
        "                    L.LSTM(units=hidden_size, \n",
        "                                         return_sequences=True)\n",
        "                )\n",
        "            )\n",
        "        # the final layer return only final sequence\n",
        "        # if you need all sequences, you have to write return_sequences=True.\n",
        "        lstm_layers.append(\n",
        "            L.Bidirectional(\n",
        "                L.LSTM(units=hidden_size)\n",
        "            )\n",
        "        )\n",
        "        return tf.keras.Sequential(lstm_layers)\n",
        "        \n",
        "    def call(self, x):        \n",
        "        # Forward propagate LSTM\n",
        "        out = self.lstm(x)\n",
        "        out = self.fc(out)\n",
        "        return out"
      ],
      "execution_count": 0,
      "outputs": []
    },
    {
      "metadata": {
        "colab_type": "code",
        "id": "oMARKqbaBjIN",
        "colab": {}
      },
      "cell_type": "code",
      "source": [
        "model = RNN()"
      ],
      "execution_count": 0,
      "outputs": []
    },
    {
      "metadata": {
        "colab_type": "code",
        "id": "_NPkLp-rBzCp",
        "outputId": "18906c31-7ad6-4c58-daf7-f3e01fd46086",
        "colab": {
          "base_uri": "https://localhost:8080/",
          "height": 233
        }
      },
      "cell_type": "code",
      "source": [
        "optimizer = tf.keras.optimizers.Adam(learning_rate)\n",
        "model.compile(optimizer=optimizer,\n",
        "              loss='categorical_crossentropy',\n",
        "              metrics=[\"accuracy\"])\n",
        "\n",
        "# Eager Execution initialize parameters when using model.call()\n",
        "model(x_train_eager[:50])\n",
        "\n",
        "model.summary()"
      ],
      "execution_count": 9,
      "outputs": [
        {
          "output_type": "stream",
          "text": [
            "Model: \"mnist_rnn\"\n",
            "_________________________________________________________________\n",
            "Layer (type)                 Output Shape              Param #   \n",
            "=================================================================\n",
            "sequential (Sequential)      multiple                  5600      \n",
            "_________________________________________________________________\n",
            "dense (Dense)                multiple                  210       \n",
            "=================================================================\n",
            "Total params: 5,810\n",
            "Trainable params: 5,810\n",
            "Non-trainable params: 0\n",
            "_________________________________________________________________\n"
          ],
          "name": "stdout"
        }
      ]
    },
    {
      "metadata": {
        "colab_type": "code",
        "id": "wDEyoIMnDKEy",
        "outputId": "34e821f3-7adc-40ac-b00e-ef6db8910f77",
        "colab": {
          "base_uri": "https://localhost:8080/",
          "height": 233
        }
      },
      "cell_type": "code",
      "source": [
        "model.fit(x=x_train_eager.numpy(), \n",
        "          y=y_train_eager.numpy(), \n",
        "          validation_split=0.2, \n",
        "          epochs=num_epochs,\n",
        "          batch_size=batch_size)"
      ],
      "execution_count": 10,
      "outputs": [
        {
          "output_type": "stream",
          "text": [
            "Train on 48000 samples, validate on 12000 samples\n",
            "Epoch 1/5\n",
            "48000/48000==============================] - 12s 254us/sample - loss: 2.0411 - acc: 0.3131 - val_loss: 1.5728 - val_acc: 0.5153\n",
            "Epoch 2/5\n",
            "48000/48000==============================] - 10s 215us/sample - loss: 1.2057 - acc: 0.6374 - val_loss: 0.8727 - val_acc: 0.7474\n",
            "Epoch 3/5\n",
            "48000/48000==============================] - 10s 216us/sample - loss: 0.7447 - acc: 0.7834 - val_loss: 0.6034 - val_acc: 0.8220\n",
            "Epoch 4/5\n",
            "48000/48000==============================] - 10s 214us/sample - loss: 0.5666 - acc: 0.8342 - val_loss: 0.4935 - val_acc: 0.8529\n",
            "Epoch 5/5\n",
            "48000/48000==============================] - 10s 215us/sample - loss: 0.4756 - acc: 0.8593 - val_loss: 0.4198 - val_acc: 0.8751\n"
          ],
          "name": "stdout"
        },
        {
          "output_type": "execute_result",
          "data": {
            "text/plain": [
              "<tensorflow.python.keras.callbacks.History at 0x7f98b68f97b8>"
            ]
          },
          "metadata": {
            "tags": []
          },
          "execution_count": 10
        }
      ]
    },
    {
      "metadata": {
        "colab_type": "code",
        "id": "oDuYrgFIG850",
        "outputId": "44f05e67-8bd5-4bc5-88a3-589c9e33dad7",
        "colab": {
          "base_uri": "https://localhost:8080/",
          "height": 53
        }
      },
      "cell_type": "code",
      "source": [
        "test_loss, test_acc = model.evaluate(x=x_test_eager.numpy(), \n",
        "                                     y=y_test_eager.numpy())\n",
        "\n",
        "print(\"test_accracy: \", test_acc)"
      ],
      "execution_count": 11,
      "outputs": [
        {
          "output_type": "stream",
          "text": [
            "10000/10000==============================] - 2s 240us/sample - loss: 0.4305 - acc: 0.8709\n",
            "test_accracy:  0.8709\n"
          ],
          "name": "stdout"
        }
      ]
    },
    {
      "metadata": {
        "colab_type": "code",
        "id": "Yeayjx_nKXaW",
        "colab": {}
      },
      "cell_type": "code",
      "source": [
        ""
      ],
      "execution_count": 0,
      "outputs": []
    }
  ]
}