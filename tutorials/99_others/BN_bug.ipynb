{
  "nbformat": 4,
  "nbformat_minor": 0,
  "metadata": {
    "colab": {
      "name": "BN_bug.ipynb",
      "version": "0.3.2",
      "provenance": [],
      "include_colab_link": true
    },
    "kernelspec": {
      "name": "python3",
      "display_name": "Python 3"
    }
  },
  "cells": [
    {
      "cell_type": "markdown",
      "metadata": {
        "id": "view-in-github",
        "colab_type": "text"
      },
      "source": [
        "<a href=\"https://colab.research.google.com/github/hellocybernetics/TensorFlow_Eager_Execution_Tutorials/blob/master/tutorials/99_others/BN_bug.ipynb\" target=\"_parent\"><img src=\"https://colab.research.google.com/assets/colab-badge.svg\" alt=\"Open In Colab\"/></a>"
      ]
    },
    {
      "metadata": {
        "id": "JR1iortXoU4D",
        "colab_type": "code",
        "colab": {
          "base_uri": "https://localhost:8080/",
          "height": 667
        },
        "outputId": "4791c2d6-6eb0-4b28-f40d-1a1c8794af5a"
      },
      "cell_type": "code",
      "source": [
        "!pip install tf-nightly-2.0-preview"
      ],
      "execution_count": 1,
      "outputs": [
        {
          "output_type": "stream",
          "text": [
            "Collecting tf-nightly-2.0-preview\n",
            "\u001b[?25l  Downloading https://files.pythonhosted.org/packages/48/0f/ce6e382f12ee04c5f5f11f97242da093534596981ba14f6a2318bed8b508/tf_nightly_2.0_preview-1.13.0.dev20190116-cp36-cp36m-manylinux1_x86_64.whl (75.0MB)\n",
            "\u001b[K    100% |████████████████████████████████| 75.0MB 325kB/s \n",
            "\u001b[?25hRequirement already satisfied: gast>=0.2.0 in /usr/local/lib/python3.6/dist-packages (from tf-nightly-2.0-preview) (0.2.1.post0)\n",
            "Requirement already satisfied: keras-preprocessing>=1.0.5 in /usr/local/lib/python3.6/dist-packages (from tf-nightly-2.0-preview) (1.0.5)\n",
            "Collecting tb-nightly<1.14.0a0,>=1.13.0a0 (from tf-nightly-2.0-preview)\n",
            "\u001b[?25l  Downloading https://files.pythonhosted.org/packages/5f/97/202716b08532d905b995d2a3d8dfbbe834ce6f56cbc66cbfbf9928373b79/tb_nightly-1.13.0a20190116-py3-none-any.whl (3.2MB)\n",
            "\u001b[K    100% |████████████████████████████████| 3.2MB 9.1MB/s \n",
            "\u001b[?25hRequirement already satisfied: six>=1.10.0 in /usr/local/lib/python3.6/dist-packages (from tf-nightly-2.0-preview) (1.11.0)\n",
            "Requirement already satisfied: keras-applications>=1.0.6 in /usr/local/lib/python3.6/dist-packages (from tf-nightly-2.0-preview) (1.0.6)\n",
            "Requirement already satisfied: numpy>=1.13.3 in /usr/local/lib/python3.6/dist-packages (from tf-nightly-2.0-preview) (1.14.6)\n",
            "Requirement already satisfied: termcolor>=1.1.0 in /usr/local/lib/python3.6/dist-packages (from tf-nightly-2.0-preview) (1.1.0)\n",
            "Requirement already satisfied: absl-py>=0.1.6 in /usr/local/lib/python3.6/dist-packages (from tf-nightly-2.0-preview) (0.6.1)\n",
            "Requirement already satisfied: grpcio>=1.8.6 in /usr/local/lib/python3.6/dist-packages (from tf-nightly-2.0-preview) (1.15.0)\n",
            "Requirement already satisfied: protobuf>=3.6.1 in /usr/local/lib/python3.6/dist-packages (from tf-nightly-2.0-preview) (3.6.1)\n",
            "Requirement already satisfied: astor>=0.6.0 in /usr/local/lib/python3.6/dist-packages (from tf-nightly-2.0-preview) (0.7.1)\n",
            "Requirement already satisfied: wheel>=0.26 in /usr/local/lib/python3.6/dist-packages (from tf-nightly-2.0-preview) (0.32.3)\n",
            "Collecting google-pasta>=0.1.1 (from tf-nightly-2.0-preview)\n",
            "\u001b[?25l  Downloading https://files.pythonhosted.org/packages/86/6c/9eabce1c1cdaa657751a802f94d71ca29b8f82e10cac97c3fd5f8c82736c/google_pasta-0.1.1-py3-none-any.whl (51kB)\n",
            "\u001b[K    100% |████████████████████████████████| 61kB 26.6MB/s \n",
            "\u001b[?25hCollecting tensorflow-estimator-2.0-preview (from tf-nightly-2.0-preview)\n",
            "\u001b[?25l  Downloading https://files.pythonhosted.org/packages/66/57/755322cd96bcd1d9122c057de9774322545cc724d4ece536ed5ca4c23b56/tensorflow_estimator_2.0_preview-1.13.0.dev2019011600-py2.py3-none-any.whl (243kB)\n",
            "\u001b[K    100% |████████████████████████████████| 245kB 20.0MB/s \n",
            "\u001b[?25hRequirement already satisfied: markdown>=2.6.8 in /usr/local/lib/python3.6/dist-packages (from tb-nightly<1.14.0a0,>=1.13.0a0->tf-nightly-2.0-preview) (3.0.1)\n",
            "Requirement already satisfied: werkzeug>=0.11.10 in /usr/local/lib/python3.6/dist-packages (from tb-nightly<1.14.0a0,>=1.13.0a0->tf-nightly-2.0-preview) (0.14.1)\n",
            "Requirement already satisfied: h5py in /usr/local/lib/python3.6/dist-packages (from keras-applications>=1.0.6->tf-nightly-2.0-preview) (2.8.0)\n",
            "Requirement already satisfied: setuptools in /usr/local/lib/python3.6/dist-packages (from protobuf>=3.6.1->tf-nightly-2.0-preview) (40.6.3)\n",
            "Collecting mock>=2.0.0 (from tensorflow-estimator-2.0-preview->tf-nightly-2.0-preview)\n",
            "\u001b[?25l  Downloading https://files.pythonhosted.org/packages/e6/35/f187bdf23be87092bd0f1200d43d23076cee4d0dec109f195173fd3ebc79/mock-2.0.0-py2.py3-none-any.whl (56kB)\n",
            "\u001b[K    100% |████████████████████████████████| 61kB 26.2MB/s \n",
            "\u001b[?25hCollecting pbr>=0.11 (from mock>=2.0.0->tensorflow-estimator-2.0-preview->tf-nightly-2.0-preview)\n",
            "\u001b[?25l  Downloading https://files.pythonhosted.org/packages/f3/04/fddc1c2dd75b256eda4d360024692231a2c19a0c61ad7f4a162407c1ab58/pbr-5.1.1-py2.py3-none-any.whl (106kB)\n",
            "\u001b[K    100% |████████████████████████████████| 112kB 20.9MB/s \n",
            "\u001b[?25hInstalling collected packages: tb-nightly, google-pasta, pbr, mock, tensorflow-estimator-2.0-preview, tf-nightly-2.0-preview\n",
            "Successfully installed google-pasta-0.1.1 mock-2.0.0 pbr-5.1.1 tb-nightly-1.13.0a20190116 tensorflow-estimator-2.0-preview-1.13.0.dev2019011600 tf-nightly-2.0-preview-1.13.0.dev20190116\n"
          ],
          "name": "stdout"
        }
      ]
    },
    {
      "metadata": {
        "id": "ijIoaP0voajK",
        "colab_type": "code",
        "colab": {}
      },
      "cell_type": "code",
      "source": [
        "import tensorflow as tf"
      ],
      "execution_count": 0,
      "outputs": []
    },
    {
      "metadata": {
        "id": "w1hi8CfeocCi",
        "colab_type": "code",
        "colab": {}
      },
      "cell_type": "code",
      "source": [
        "X = tf.random.normal([100, 10])\n",
        "y = tf.random.normal([100, 1])\n",
        "\n",
        "model = tf.keras.Sequential([\n",
        "    tf.keras.layers.Dense(10),\n",
        "    tf.keras.layers.ReLU(),\n",
        "    tf.keras.layers.BatchNormalization(-1),\n",
        "    tf.keras.layers.Dense(1),\n",
        "])"
      ],
      "execution_count": 0,
      "outputs": []
    },
    {
      "metadata": {
        "id": "YX8vCb3Nouva",
        "colab_type": "code",
        "colab": {}
      },
      "cell_type": "code",
      "source": [
        "loss_fn = lambda y_true, y_pred: tf.reduce_sum(\n",
        "    tf.keras.losses.mse(y_true, y_pred)\n",
        ")\n",
        "\n",
        "optimizer = tf.keras.optimizers.Adam()"
      ],
      "execution_count": 0,
      "outputs": []
    },
    {
      "metadata": {
        "id": "t9FD54mipIaW",
        "colab_type": "code",
        "colab": {
          "base_uri": "https://localhost:8080/",
          "height": 397
        },
        "outputId": "ed20d170-6de1-459f-fa77-e85cae30959e"
      },
      "cell_type": "code",
      "source": [
        "for _ in range(10):\n",
        "    \n",
        "    with tf.GradientTape() as g:\n",
        "        \n",
        "        y_pred = model(X)\n",
        "        loss = loss_fn(y, y_pred)\n",
        "        \n",
        "    grads = g.gradient(loss, model.variables)\n",
        "    optimizer.apply_gradients(zip(grads, model.variables))\n",
        "    \n",
        "    print(loss.numpy())"
      ],
      "execution_count": 15,
      "outputs": [
        {
          "output_type": "stream",
          "text": [
            "WARNING:tensorflow:Gradients does not exist for variables ['sequential/batch_normalization_v2/moving_mean:0', 'sequential/batch_normalization_v2/moving_variance:0'] when minimizing the loss.\n",
            "131.86316\n",
            "WARNING:tensorflow:Gradients does not exist for variables ['sequential/batch_normalization_v2/moving_mean:0', 'sequential/batch_normalization_v2/moving_variance:0'] when minimizing the loss.\n",
            "130.33951\n",
            "WARNING:tensorflow:Gradients does not exist for variables ['sequential/batch_normalization_v2/moving_mean:0', 'sequential/batch_normalization_v2/moving_variance:0'] when minimizing the loss.\n",
            "128.8607\n",
            "WARNING:tensorflow:Gradients does not exist for variables ['sequential/batch_normalization_v2/moving_mean:0', 'sequential/batch_normalization_v2/moving_variance:0'] when minimizing the loss.\n",
            "127.42684\n",
            "WARNING:tensorflow:Gradients does not exist for variables ['sequential/batch_normalization_v2/moving_mean:0', 'sequential/batch_normalization_v2/moving_variance:0'] when minimizing the loss.\n",
            "126.03555\n",
            "WARNING:tensorflow:Gradients does not exist for variables ['sequential/batch_normalization_v2/moving_mean:0', 'sequential/batch_normalization_v2/moving_variance:0'] when minimizing the loss.\n",
            "124.68613\n",
            "WARNING:tensorflow:Gradients does not exist for variables ['sequential/batch_normalization_v2/moving_mean:0', 'sequential/batch_normalization_v2/moving_variance:0'] when minimizing the loss.\n",
            "123.37666\n",
            "WARNING:tensorflow:Gradients does not exist for variables ['sequential/batch_normalization_v2/moving_mean:0', 'sequential/batch_normalization_v2/moving_variance:0'] when minimizing the loss.\n",
            "122.11482\n",
            "WARNING:tensorflow:Gradients does not exist for variables ['sequential/batch_normalization_v2/moving_mean:0', 'sequential/batch_normalization_v2/moving_variance:0'] when minimizing the loss.\n",
            "120.906\n",
            "WARNING:tensorflow:Gradients does not exist for variables ['sequential/batch_normalization_v2/moving_mean:0', 'sequential/batch_normalization_v2/moving_variance:0'] when minimizing the loss.\n",
            "119.73827\n"
          ],
          "name": "stdout"
        }
      ]
    },
    {
      "metadata": {
        "id": "6l8V7UU4qBsi",
        "colab_type": "code",
        "colab": {}
      },
      "cell_type": "code",
      "source": [
        ""
      ],
      "execution_count": 0,
      "outputs": []
    }
  ]
}